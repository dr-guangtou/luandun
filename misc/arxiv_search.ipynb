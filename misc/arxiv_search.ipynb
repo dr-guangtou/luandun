{
 "cells": [
  {
   "cell_type": "code",
   "execution_count": 2,
   "metadata": {},
   "outputs": [
    {
     "name": "stdout",
     "output_type": "stream",
     "text": [
      "The autoreload extension is already loaded. To reload it, use:\n",
      "  %reload_ext autoreload\n"
     ]
    }
   ],
   "source": [
    "%load_ext autoreload\n",
    "%autoreload 2\n",
    "\n",
    "import os\n",
    "import sys\n",
    "import copy \n",
    "\n",
    "import xml.etree.ElementTree as ET\n",
    "\n",
    "import numpy as np\n",
    "\n",
    "from astropy.table import Table\n",
    "\n",
    "from urllib.parse import urlencode\n",
    "from urllib.request import urlopen\n",
    "from urllib.error import HTTPError\n",
    "\n",
    "from bs4 import BeautifulSoup"
   ]
  },
  {
   "cell_type": "markdown",
   "metadata": {},
   "source": [
    "## Sandbox exploring the arXiv advanced search function"
   ]
  },
  {
   "cell_type": "markdown",
   "metadata": {},
   "source": [
    "#### Simple Search with 16 results\n",
    "\n",
    "- [Search URL](https://arxiv.org/search/advanced?advanced=1&terms-0-operator=AND&terms-0-term=Galaxies&terms-0-field=title&terms-1-operator=AND&terms-1-term=Assembly&terms-1-field=abstract&classification-physics=y&classification-physics_archives=astro-ph&classification-include_cross_list=exclude&date-year=&date-filter_by=date_range&date-from_date=2020-12-01&date-to_date=2021-02-03&date-date_type=announced_date_first&abstracts=show&size=200&order=-announced_date_first)"
   ]
  },
  {
   "cell_type": "code",
   "execution_count": 4,
   "metadata": {},
   "outputs": [],
   "source": [
    "# First simple search with only 16 results\n",
    "search_1 = \"https://arxiv.org/search/advanced?advanced=1&terms-0-operator=AND&terms-0-term=Galaxies&terms-0-field=title&terms-1-operator=AND&terms-1-term=Assembly&terms-1-field=abstract&classification-physics=y&classification-physics_archives=astro-ph&classification-include_cross_list=exclude&date-year=&date-filter_by=date_range&date-from_date=2020-12-01&date-to_date=2021-02-03&date-date_type=announced_date_first&abstracts=show&size=200&order=-announced_date_first\""
   ]
  },
  {
   "cell_type": "code",
   "execution_count": 5,
   "metadata": {},
   "outputs": [
    {
     "data": {
      "text/plain": [
       "16"
      ]
     },
     "execution_count": 5,
     "metadata": {},
     "output_type": "execute_result"
    }
   ],
   "source": [
    "response = urlopen(search_1)\n",
    "result = response.read()\n",
    "\n",
    "soup = BeautifulSoup(result, \"html.parser\")\n",
    "\n",
    "lists = soup.find_all('li', class_=[\"arxiv-result\"])\n",
    "\n",
    "len(lists)"
   ]
  },
  {
   "cell_type": "code",
   "execution_count": 7,
   "metadata": {},
   "outputs": [],
   "source": [
    "a = lists[0]"
   ]
  },
  {
   "cell_type": "code",
   "execution_count": 40,
   "metadata": {},
   "outputs": [
    {
     "data": {
      "text/plain": [
       "<li class=\"arxiv-result\">\n",
       "<div class=\"is-marginless\">\n",
       "<p class=\"list-title is-inline-block\"><a href=\"https://arxiv.org/abs/2101.12634\">arXiv:2101.12634</a>\n",
       "<span> [<a href=\"https://arxiv.org/pdf/2101.12634\">pdf</a>, <a href=\"https://arxiv.org/format/2101.12634\">other</a>] </span>\n",
       "</p>\n",
       "<div class=\"tags is-inline-block\">\n",
       "<span class=\"tag is-small is-link tooltip is-tooltip-top\" data-tooltip=\"Cosmology and Nongalactic Astrophysics\">astro-ph.CO</span>\n",
       "</div>\n",
       "</div>\n",
       "<p class=\"title is-5 mathjax\">\n",
       "      \n",
       "        Morphology of relaxed and merging <span class=\"search-hit mathjax\">galaxy</span> clusters. Analytical models for monolithic Minkowski functionals\n",
       "      \n",
       "    </p>\n",
       "<p class=\"authors\">\n",
       "<span class=\"has-text-black-bis has-text-weight-semibold\">Authors:</span>\n",
       "<a href=\"/search/?searchtype=author&amp;query=Schimd%2C+C\">C. Schimd</a>, \n",
       "      \n",
       "      <a href=\"/search/?searchtype=author&amp;query=Sereno%2C+M\">M. Sereno</a>\n",
       "</p>\n",
       "<p class=\"abstract mathjax\">\n",
       "<span class=\"search-hit\">Abstract</span>:\n",
       "      <span class=\"abstract-short has-text-grey-dark mathjax\" id=\"2101.12634v1-abstract-short\" style=\"display: inline;\">\n",
       "        Galaxy clusters exhibit a rich morphology during the early and intermediate stages of mass <span class=\"search-hit mathjax\">assembly</span>, especially beyond their boundary. A classification scheme based on shapefinders deduced from the Minkowski functionals is examined to fully account for the morphological diversity of galaxy clusters, including relaxed and merging clusters, clusters fed by fil…\n",
       "        <a class=\"is-size-7\" onclick=\"document.getElementById('2101.12634v1-abstract-full').style.display = 'inline'; document.getElementById('2101.12634v1-abstract-short').style.display = 'none';\" style=\"white-space: nowrap;\">▽ More</a>\n",
       "</span>\n",
       "<span class=\"abstract-full has-text-grey-dark mathjax\" id=\"2101.12634v1-abstract-full\" style=\"display: none;\">\n",
       "        Galaxy clusters exhibit a rich morphology during the early and intermediate stages of mass <span class=\"search-hit mathjax\">assembly</span>, especially beyond their boundary. A classification scheme based on shapefinders deduced from the Minkowski functionals is examined to fully account for the morphological diversity of galaxy clusters, including relaxed and merging clusters, clusters fed by filamentary structures, and cluster-pair bridges. These configurations are conveniently treated with idealised geometric models and analytical formulae, some of which are novel. Examples from CLASH and LC$^2$ clusters and observed cluster-pair bridges are discussed.\n",
       "        <a class=\"is-size-7\" onclick=\"document.getElementById('2101.12634v1-abstract-full').style.display = 'none'; document.getElementById('2101.12634v1-abstract-short').style.display = 'inline';\" style=\"white-space: nowrap;\">△ Less</a>\n",
       "</span>\n",
       "</p>\n",
       "<p class=\"is-size-7\"><span class=\"has-text-black-bis has-text-weight-semibold\">Submitted</span> 29 January, 2021; \n",
       "      <span class=\"has-text-black-bis has-text-weight-semibold\">originally announced</span> January 2021.\n",
       "      \n",
       "    </p>\n",
       "<p class=\"comments is-size-7\">\n",
       "<span class=\"has-text-black-bis has-text-weight-semibold\">Comments:</span>\n",
       "<span class=\"has-text-grey-dark mathjax\">12 pages, 10 figures. Accepted for publication in MNRAS</span>\n",
       "</p>\n",
       "</li>"
      ]
     },
     "execution_count": 40,
     "metadata": {},
     "output_type": "execute_result"
    }
   ],
   "source": [
    "a"
   ]
  },
  {
   "cell_type": "code",
   "execution_count": 47,
   "metadata": {},
   "outputs": [
    {
     "data": {
      "text/plain": [
       "'Morphology of relaxed and merging galaxy clusters. Analytical models for monolithic Minkowski functionals'"
      ]
     },
     "execution_count": 47,
     "metadata": {},
     "output_type": "execute_result"
    }
   ],
   "source": [
    "a.find_all('p')[1].text.replace('\\n', '').strip()"
   ]
  },
  {
   "cell_type": "code",
   "execution_count": 50,
   "metadata": {},
   "outputs": [
    {
     "data": {
      "text/plain": [
       "[]"
      ]
     },
     "execution_count": 50,
     "metadata": {},
     "output_type": "execute_result"
    }
   ],
   "source": [
    "a.find_all('p', _class='title is-5 mathjax')"
   ]
  },
  {
   "cell_type": "code",
   "execution_count": 53,
   "metadata": {},
   "outputs": [],
   "source": [
    "b = a.find_all('p')[1]"
   ]
  },
  {
   "cell_type": "code",
   "execution_count": 55,
   "metadata": {},
   "outputs": [],
   "source": [
    "b."
   ]
  },
  {
   "cell_type": "code",
   "execution_count": 17,
   "metadata": {},
   "outputs": [
    {
     "data": {
      "text/plain": [
       "<li class=\"arxiv-result\">\n",
       "<div class=\"is-marginless\">\n",
       "<p class=\"list-title is-inline-block\"><a href=\"https://arxiv.org/abs/2101.12634\">arXiv:2101.12634</a>\n",
       "<span> [<a href=\"https://arxiv.org/pdf/2101.12634\">pdf</a>, <a href=\"https://arxiv.org/format/2101.12634\">other</a>] </span>\n",
       "</p>\n",
       "<div class=\"tags is-inline-block\">\n",
       "<span class=\"tag is-small is-link tooltip is-tooltip-top\" data-tooltip=\"Cosmology and Nongalactic Astrophysics\">astro-ph.CO</span>\n",
       "</div>\n",
       "</div>\n",
       "<p class=\"title is-5 mathjax\">\n",
       "      \n",
       "        Morphology of relaxed and merging <span class=\"search-hit mathjax\">galaxy</span> clusters. Analytical models for monolithic Minkowski functionals\n",
       "      \n",
       "    </p>\n",
       "<p class=\"authors\">\n",
       "<span class=\"has-text-black-bis has-text-weight-semibold\">Authors:</span>\n",
       "<a href=\"/search/?searchtype=author&amp;query=Schimd%2C+C\">C. Schimd</a>, \n",
       "      \n",
       "      <a href=\"/search/?searchtype=author&amp;query=Sereno%2C+M\">M. Sereno</a>\n",
       "</p>\n",
       "<p class=\"abstract mathjax\">\n",
       "<span class=\"search-hit\">Abstract</span>:\n",
       "      <span class=\"abstract-short has-text-grey-dark mathjax\" id=\"2101.12634v1-abstract-short\" style=\"display: inline;\">\n",
       "        Galaxy clusters exhibit a rich morphology during the early and intermediate stages of mass <span class=\"search-hit mathjax\">assembly</span>, especially beyond their boundary. A classification scheme based on shapefinders deduced from the Minkowski functionals is examined to fully account for the morphological diversity of galaxy clusters, including relaxed and merging clusters, clusters fed by fil…\n",
       "        <a class=\"is-size-7\" onclick=\"document.getElementById('2101.12634v1-abstract-full').style.display = 'inline'; document.getElementById('2101.12634v1-abstract-short').style.display = 'none';\" style=\"white-space: nowrap;\">▽ More</a>\n",
       "</span>\n",
       "<span class=\"abstract-full has-text-grey-dark mathjax\" id=\"2101.12634v1-abstract-full\" style=\"display: none;\">\n",
       "        Galaxy clusters exhibit a rich morphology during the early and intermediate stages of mass <span class=\"search-hit mathjax\">assembly</span>, especially beyond their boundary. A classification scheme based on shapefinders deduced from the Minkowski functionals is examined to fully account for the morphological diversity of galaxy clusters, including relaxed and merging clusters, clusters fed by filamentary structures, and cluster-pair bridges. These configurations are conveniently treated with idealised geometric models and analytical formulae, some of which are novel. Examples from CLASH and LC$^2$ clusters and observed cluster-pair bridges are discussed.\n",
       "        <a class=\"is-size-7\" onclick=\"document.getElementById('2101.12634v1-abstract-full').style.display = 'none'; document.getElementById('2101.12634v1-abstract-short').style.display = 'inline';\" style=\"white-space: nowrap;\">△ Less</a>\n",
       "</span>\n",
       "</p>\n",
       "<p class=\"is-size-7\"><span class=\"has-text-black-bis has-text-weight-semibold\">Submitted</span> 29 January, 2021; \n",
       "      <span class=\"has-text-black-bis has-text-weight-semibold\">originally announced</span> January 2021.\n",
       "      \n",
       "    </p>\n",
       "<p class=\"comments is-size-7\">\n",
       "<span class=\"has-text-black-bis has-text-weight-semibold\">Comments:</span>\n",
       "<span class=\"has-text-grey-dark mathjax\">12 pages, 10 figures. Accepted for publication in MNRAS</span>\n",
       "</p>\n",
       "</li>"
      ]
     },
     "execution_count": 17,
     "metadata": {},
     "output_type": "execute_result"
    }
   ],
   "source": [
    "a"
   ]
  },
  {
   "cell_type": "markdown",
   "metadata": {},
   "source": [
    "### Search individual paper by the ID "
   ]
  },
  {
   "cell_type": "code",
   "execution_count": 71,
   "metadata": {},
   "outputs": [],
   "source": [
    "search_url = \"http://export.arxiv.org/api/query?search_query=id:2101.12634&start=0&max_results=1\""
   ]
  },
  {
   "cell_type": "code",
   "execution_count": 73,
   "metadata": {},
   "outputs": [],
   "source": [
    "result = urlopen(search_url).read()"
   ]
  },
  {
   "cell_type": "code",
   "execution_count": 74,
   "metadata": {},
   "outputs": [],
   "source": [
    "xml_result = ET.fromstring(result)"
   ]
  },
  {
   "cell_type": "code",
   "execution_count": 75,
   "metadata": {},
   "outputs": [
    {
     "data": {
      "text/plain": [
       "<Element '{http://www.w3.org/2005/Atom}feed' at 0x12ff11f40>"
      ]
     },
     "execution_count": 75,
     "metadata": {},
     "output_type": "execute_result"
    }
   ],
   "source": [
    "xml_result."
   ]
  },
  {
   "cell_type": "code",
   "execution_count": 76,
   "metadata": {},
   "outputs": [
    {
     "data": {
      "text/plain": [
       "b'<?xml version=\"1.0\" encoding=\"UTF-8\"?>\\n<feed xmlns=\"http://www.w3.org/2005/Atom\">\\n  <link href=\"http://arxiv.org/api/query?search_query%3Did%3A2101.12634%26id_list%3D%26start%3D0%26max_results%3D1\" rel=\"self\" type=\"application/atom+xml\"/>\\n  <title type=\"html\">ArXiv Query: search_query=id:2101.12634&amp;id_list=&amp;start=0&amp;max_results=1</title>\\n  <id>http://arxiv.org/api/kelp/5/xO5YB6OrWvqogLXbWsjs</id>\\n  <updated>2021-02-04T00:00:00-05:00</updated>\\n  <opensearch:totalResults xmlns:opensearch=\"http://a9.com/-/spec/opensearch/1.1/\">1</opensearch:totalResults>\\n  <opensearch:startIndex xmlns:opensearch=\"http://a9.com/-/spec/opensearch/1.1/\">0</opensearch:startIndex>\\n  <opensearch:itemsPerPage xmlns:opensearch=\"http://a9.com/-/spec/opensearch/1.1/\">1</opensearch:itemsPerPage>\\n  <entry>\\n    <id>http://arxiv.org/abs/2101.12634v1</id>\\n    <updated>2021-01-29T15:15:37Z</updated>\\n    <published>2021-01-29T15:15:37Z</published>\\n    <title>Morphology of relaxed and merging galaxy clusters. Analytical models for\\n  monolithic Minkowski functionals</title>\\n    <summary>  Galaxy clusters exhibit a rich morphology during the early and intermediate\\nstages of mass assembly, especially beyond their boundary. A classification\\nscheme based on shapefinders deduced from the Minkowski functionals is examined\\nto fully account for the morphological diversity of galaxy clusters, including\\nrelaxed and merging clusters, clusters fed by filamentary structures, and\\ncluster-pair bridges. These configurations are conveniently treated with\\nidealised geometric models and analytical formulae, some of which are novel.\\nExamples from CLASH and LC$^2$ clusters and observed cluster-pair bridges are\\ndiscussed.\\n</summary>\\n    <author>\\n      <name>C. Schimd</name>\\n    </author>\\n    <author>\\n      <name>M. Sereno</name>\\n    </author>\\n    <arxiv:comment xmlns:arxiv=\"http://arxiv.org/schemas/atom\">12 pages, 10 figures. Accepted for publication in MNRAS</arxiv:comment>\\n    <link href=\"http://arxiv.org/abs/2101.12634v1\" rel=\"alternate\" type=\"text/html\"/>\\n    <link title=\"pdf\" href=\"http://arxiv.org/pdf/2101.12634v1\" rel=\"related\" type=\"application/pdf\"/>\\n    <arxiv:primary_category xmlns:arxiv=\"http://arxiv.org/schemas/atom\" term=\"astro-ph.CO\" scheme=\"http://arxiv.org/schemas/atom\"/>\\n    <category term=\"astro-ph.CO\" scheme=\"http://arxiv.org/schemas/atom\"/>\\n  </entry>\\n</feed>\\n'"
      ]
     },
     "execution_count": 76,
     "metadata": {},
     "output_type": "execute_result"
    }
   ],
   "source": [
    "result"
   ]
  },
  {
   "cell_type": "markdown",
   "metadata": {},
   "source": [
    "#### Example:\n",
    "\n",
    "- [Parsing](https://static.arxiv.org/static/arxiv.marxdown/0.1/help/api/examples/python_arXiv_parsing_example.txt)\n",
    "- [Paging](https://static.arxiv.org/static/arxiv.marxdown/0.1/help/api/examples/python_arXiv_paging_example.txt)"
   ]
  },
  {
   "cell_type": "markdown",
   "metadata": {},
   "source": [
    "http://export.arxiv.org/api/query?search_query=cat:astro-ph.GA+AND+ti:galaxy"
   ]
  },
  {
   "cell_type": "code",
   "execution_count": null,
   "metadata": {},
   "outputs": [],
   "source": []
  }
 ],
 "metadata": {
  "kernelspec": {
   "display_name": "Python 3",
   "language": "python",
   "name": "python3"
  },
  "language_info": {
   "codemirror_mode": {
    "name": "ipython",
    "version": 3
   },
   "file_extension": ".py",
   "mimetype": "text/x-python",
   "name": "python",
   "nbconvert_exporter": "python",
   "pygments_lexer": "ipython3",
   "version": "3.8.7"
  }
 },
 "nbformat": 4,
 "nbformat_minor": 4
}
