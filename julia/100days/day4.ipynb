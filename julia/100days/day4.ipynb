{
 "cells": [
  {
   "cell_type": "markdown",
   "id": "c976f3a6-4a37-475a-8c6e-bdf9b75bc456",
   "metadata": {},
   "source": [
    "\n",
    "### Strings\n",
    "\n",
    "- Julia `String` supports the full range of Unicode characters via the UTF-8 encoding.\n",
    "- There is a built-in single-character class called `Char`."
   ]
  },
  {
   "cell_type": "code",
   "execution_count": 1,
   "id": "f44f01ab-d424-4fa0-af12-61ef13077e30",
   "metadata": {},
   "outputs": [],
   "source": [
    "using Printf\n",
    "using FITSIO\n",
    "using PyPlot\n",
    "using PyCall"
   ]
  },
  {
   "cell_type": "markdown",
   "id": "2bf430e1-fa2f-4adc-bed8-70155008bd54",
   "metadata": {},
   "source": [
    "### Regular expression\n",
    "\n",
    "- Julia has Perl-compatible regular expressions (regexes),\n",
    "- In Julia, regular expressions are input using non-standard string literals prefixed with various identifiers beginning with `r`"
   ]
  },
  {
   "cell_type": "code",
   "execution_count": 2,
   "id": "efdfc2c6-633f-44fc-b168-60a1dd056bce",
   "metadata": {},
   "outputs": [
    {
     "data": {
      "text/plain": [
       "r\"^\\s*(?:#|$)\""
      ]
     },
     "execution_count": 2,
     "metadata": {},
     "output_type": "execute_result"
    }
   ],
   "source": [
    "re = r\"^\\s*(?:#|$)\""
   ]
  },
  {
   "cell_type": "markdown",
   "id": "ccf62bcb-f993-41d4-b4bf-754d7a1b26a7",
   "metadata": {},
   "source": [
    "- `occursin`"
   ]
  },
  {
   "cell_type": "code",
   "execution_count": 3,
   "id": "b936ca91-ed86-4a47-b053-4b652b8f1c29",
   "metadata": {},
   "outputs": [
    {
     "data": {
      "text/plain": [
       "true"
      ]
     },
     "execution_count": 3,
     "metadata": {},
     "output_type": "execute_result"
    }
   ],
   "source": [
    "occursin(r\"^\\s*(?:#|$)\", \"# a comment\")"
   ]
  },
  {
   "cell_type": "code",
   "execution_count": 5,
   "id": "85bd13dd-76b7-4a9b-b404-5cd890c4f5b2",
   "metadata": {},
   "outputs": [
    {
     "name": "stdout",
     "output_type": "stream",
     "text": [
      "not a comment\n"
     ]
    }
   ],
   "source": [
    "m = match(r\"^\\s*(?:#|$)\", \"Comment\")\n",
    "if m === nothing\n",
    "    println(\"not a comment\")\n",
    "else\n",
    "    println(\"blank or comment\")\n",
    "end"
   ]
  },
  {
   "cell_type": "markdown",
   "id": "cb6ce9f2-028f-4ef9-b3dc-f4ce3488acf8",
   "metadata": {},
   "source": [
    "- `match` returns a `RegexMatch` object"
   ]
  },
  {
   "cell_type": "code",
   "execution_count": null,
   "id": "4df68672-2767-4414-a5d5-f9fb8b7319d6",
   "metadata": {},
   "outputs": [],
   "source": []
  }
 ],
 "metadata": {
  "kernelspec": {
   "display_name": "Julia 1.6.2",
   "language": "julia",
   "name": "julia-1.6"
  },
  "language_info": {
   "file_extension": ".jl",
   "mimetype": "application/julia",
   "name": "julia",
   "version": "1.6.2"
  }
 },
 "nbformat": 4,
 "nbformat_minor": 5
}
