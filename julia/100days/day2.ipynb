{
 "cells": [
  {
   "cell_type": "markdown",
   "id": "a43815b5-689b-416e-b70f-5b0e14baf0ea",
   "metadata": {},
   "source": [
    "# Day 2: Mathematical Operations and Elementary Functions\n",
    "\n",
    "## Reference\n",
    "\n",
    "- Julia document: [Mathematical Operations and Elementary Functions](https://docs.julialang.org/en/v1/manual/mathematical-operations/)"
   ]
  },
  {
   "cell_type": "code",
   "execution_count": 81,
   "id": "644daa5d-b10b-47fc-988b-57531c4f7db6",
   "metadata": {},
   "outputs": [],
   "source": [
    "using Printf\n",
    "using FITSIO\n",
    "using PyPlot\n",
    "using PyCall"
   ]
  },
  {
   "cell_type": "markdown",
   "id": "b9f4d804-74f9-46b0-8e8b-a764d2716d71",
   "metadata": {},
   "source": [
    "- There is an inverse divide"
   ]
  },
  {
   "cell_type": "code",
   "execution_count": 4,
   "id": "c617361f-dc97-4562-80d3-18ad2210b6a5",
   "metadata": {},
   "outputs": [
    {
     "data": {
      "text/plain": [
       "true"
      ]
     },
     "execution_count": 4,
     "metadata": {},
     "output_type": "execute_result"
    }
   ],
   "source": [
    "5 / 6 == 6 \\ 5 "
   ]
  },
  {
   "cell_type": "markdown",
   "id": "8b0f79a3-fcf9-4f89-bba6-6bd0df008642",
   "metadata": {},
   "source": [
    "- Division truncated to an integer"
   ]
  },
  {
   "cell_type": "code",
   "execution_count": 7,
   "id": "0c2f54a7-abb4-4187-8d99-6dfddc41b7e6",
   "metadata": {},
   "outputs": [
    {
     "data": {
      "text/plain": [
       "0"
      ]
     },
     "execution_count": 7,
     "metadata": {},
     "output_type": "execute_result"
    }
   ],
   "source": [
    "5 ÷ 6"
   ]
  },
  {
   "cell_type": "markdown",
   "id": "97a0c720-f3bf-427d-b4a4-eb828ae8771b",
   "metadata": {},
   "source": [
    "- Instead of `x ** 2` in Python, Julia uses `^` for power"
   ]
  },
  {
   "cell_type": "code",
   "execution_count": 14,
   "id": "71ceb85c-5f79-4341-9ef0-09d71bb327a1",
   "metadata": {},
   "outputs": [
    {
     "data": {
      "text/plain": [
       "25"
      ]
     },
     "execution_count": 14,
     "metadata": {},
     "output_type": "execute_result"
    }
   ],
   "source": [
    "5 ^ 2"
   ]
  },
  {
   "cell_type": "markdown",
   "id": "5c73928b-126f-4662-a0bf-267e5346fcc0",
   "metadata": {},
   "source": [
    "- A numeric literal placed directly before an identifier or parentheses"
   ]
  },
  {
   "cell_type": "code",
   "execution_count": 15,
   "id": "6112f9cc-7aa5-4aca-98d6-d7344b13f85d",
   "metadata": {},
   "outputs": [
    {
     "data": {
      "text/plain": [
       "true"
      ]
     },
     "execution_count": 15,
     "metadata": {},
     "output_type": "execute_result"
    }
   ],
   "source": [
    "x = 5\n",
    "2x == 2 * x"
   ]
  },
  {
   "cell_type": "markdown",
   "id": "e3cdb7bd-649a-4404-b47f-94cb4ae4b68e",
   "metadata": {},
   "source": [
    "- Julia's promotion system makes arithmetic operations on mixtures of argument types \"just work\" naturally and automatically."
   ]
  },
  {
   "cell_type": "code",
   "execution_count": 17,
   "id": "dd655cf1-9ea8-4f1d-9801-83e28c30009e",
   "metadata": {},
   "outputs": [
    {
     "data": {
      "text/plain": [
       "0.4"
      ]
     },
     "execution_count": 17,
     "metadata": {},
     "output_type": "execute_result"
    }
   ],
   "source": [
    "2 / 5"
   ]
  },
  {
   "cell_type": "markdown",
   "id": "d1bfec0e-1241-4e4c-ba65-34612e6fc148",
   "metadata": {},
   "source": [
    "- `false` acts like a \"strong zero\""
   ]
  },
  {
   "cell_type": "code",
   "execution_count": 19,
   "id": "3cf8bf33-7bd5-4051-ab4b-cd3338a95c8e",
   "metadata": {},
   "outputs": [
    {
     "data": {
      "text/plain": [
       "0.0"
      ]
     },
     "execution_count": 19,
     "metadata": {},
     "output_type": "execute_result"
    }
   ],
   "source": [
    "false * NaN "
   ]
  },
  {
   "cell_type": "code",
   "execution_count": 20,
   "id": "57eeafb7-c7b2-44ba-9ec9-4c0c7af5c30e",
   "metadata": {},
   "outputs": [
    {
     "data": {
      "text/plain": [
       "-0.0"
      ]
     },
     "execution_count": 20,
     "metadata": {},
     "output_type": "execute_result"
    }
   ],
   "source": [
    "false * -Inf"
   ]
  },
  {
   "cell_type": "markdown",
   "id": "520b5d72-fe3a-48ef-8e5a-b952151516d7",
   "metadata": {},
   "source": [
    "- `xor` bitwise operation "
   ]
  },
  {
   "cell_type": "code",
   "execution_count": 22,
   "id": "9e32b93c-e1d7-4cc7-8e34-2f5b329a7caa",
   "metadata": {},
   "outputs": [
    {
     "data": {
      "text/plain": [
       "1"
      ]
     },
     "execution_count": 22,
     "metadata": {},
     "output_type": "execute_result"
    }
   ],
   "source": [
    "xor(0, 1)"
   ]
  },
  {
   "cell_type": "code",
   "execution_count": 23,
   "id": "ebd03496-19c0-4e79-a603-5e72eccd49e3",
   "metadata": {},
   "outputs": [
    {
     "data": {
      "text/plain": [
       "1"
      ]
     },
     "execution_count": 23,
     "metadata": {},
     "output_type": "execute_result"
    }
   ],
   "source": [
    "0 ⊻ 1\n",
    "\n",
    "# Type \\xor + Tab"
   ]
  },
  {
   "cell_type": "markdown",
   "id": "c9fdaed2-d392-4a7c-8951-1a6ebfd158e7",
   "metadata": {},
   "source": [
    "### Vectorized dot operator"
   ]
  },
  {
   "cell_type": "code",
   "execution_count": 27,
   "id": "cbb11238-e679-465a-b4d2-0de0cc81a5dc",
   "metadata": {},
   "outputs": [
    {
     "data": {
      "text/plain": [
       "3-element Vector{Int64}:\n",
       " 1\n",
       " 4\n",
       " 9"
      ]
     },
     "execution_count": 27,
     "metadata": {},
     "output_type": "execute_result"
    }
   ],
   "source": [
    "[1, 2, 3] .^ 2"
   ]
  },
  {
   "cell_type": "code",
   "execution_count": 30,
   "id": "fcf5dcf9-2b9b-4065-b919-e1e1a16075dd",
   "metadata": {},
   "outputs": [
    {
     "data": {
      "text/plain": [
       "2.23606797749979"
      ]
     },
     "execution_count": 30,
     "metadata": {},
     "output_type": "execute_result"
    }
   ],
   "source": [
    "√5"
   ]
  },
  {
   "cell_type": "code",
   "execution_count": 31,
   "id": "971c5f89-469a-47f9-8620-51585d5ffd82",
   "metadata": {},
   "outputs": [
    {
     "data": {
      "text/plain": [
       "3-element Vector{Float64}:\n",
       " 1.0\n",
       " 1.4142135623730951\n",
       " 1.7320508075688772"
      ]
     },
     "execution_count": 31,
     "metadata": {},
     "output_type": "execute_result"
    }
   ],
   "source": [
    ".√[1, 2, 3]"
   ]
  },
  {
   "cell_type": "markdown",
   "id": "07f0fa5b-87c0-4e45-9334-d12b57d965bd",
   "metadata": {},
   "source": [
    "- Can also use the `@.` macro"
   ]
  },
  {
   "cell_type": "code",
   "execution_count": 32,
   "id": "59b77362-3908-4677-8552-0255f7bd31b7",
   "metadata": {},
   "outputs": [
    {
     "data": {
      "text/plain": [
       "3-element Vector{Int64}:\n",
       " 14\n",
       " 23\n",
       " 36"
      ]
     },
     "execution_count": 32,
     "metadata": {},
     "output_type": "execute_result"
    }
   ],
   "source": [
    "x = [1, 2, 3]\n",
    "y = [4, 5, 6]\n",
    "\n",
    "@. 2x^2 + 3y"
   ]
  },
  {
   "cell_type": "code",
   "execution_count": 36,
   "id": "2b398c57-0ec1-44a3-859d-e3cdfb727829",
   "metadata": {},
   "outputs": [
    {
     "data": {
      "text/plain": [
       "3-element Vector{Int64}:\n",
       " 5\n",
       " 7\n",
       " 9"
      ]
     },
     "execution_count": 36,
     "metadata": {},
     "output_type": "execute_result"
    }
   ],
   "source": [
    "@. x += y"
   ]
  },
  {
   "cell_type": "markdown",
   "id": "6a1730e9-bb6c-41a5-9a27-d1a057a52628",
   "metadata": {},
   "source": [
    "- Note the dot syntax is also applicable to user-defined operators."
   ]
  },
  {
   "cell_type": "markdown",
   "id": "e16ea762-8add-4654-983e-dadb9a7a3588",
   "metadata": {},
   "source": [
    "### Numerical comparison"
   ]
  },
  {
   "cell_type": "markdown",
   "id": "46330139-8d8a-4ef4-951c-5a65f813d2ac",
   "metadata": {},
   "source": [
    "- `isequal`, `isfinite`, `isinf`, `isnan` functions"
   ]
  },
  {
   "cell_type": "code",
   "execution_count": 38,
   "id": "01021411-0c77-497f-9a58-e0f86dc77385",
   "metadata": {},
   "outputs": [
    {
     "data": {
      "text/plain": [
       "true"
      ]
     },
     "execution_count": 38,
     "metadata": {},
     "output_type": "execute_result"
    }
   ],
   "source": [
    "isnan(NaN)"
   ]
  },
  {
   "cell_type": "code",
   "execution_count": 39,
   "id": "d5604f5a-d9f3-4713-b354-121e0855e477",
   "metadata": {},
   "outputs": [
    {
     "data": {
      "text/plain": [
       "true"
      ]
     },
     "execution_count": 39,
     "metadata": {},
     "output_type": "execute_result"
    }
   ],
   "source": [
    "isinf(Inf)"
   ]
  },
  {
   "cell_type": "code",
   "execution_count": 40,
   "id": "3c75cdd1-f4c9-4cf1-b76b-1937529d5616",
   "metadata": {},
   "outputs": [
    {
     "data": {
      "text/plain": [
       "false"
      ]
     },
     "execution_count": 40,
     "metadata": {},
     "output_type": "execute_result"
    }
   ],
   "source": [
    "isfinite(-Inf)"
   ]
  },
  {
   "cell_type": "code",
   "execution_count": 41,
   "id": "5f0d956e-b022-49ed-a2ed-faac3dc49d9b",
   "metadata": {},
   "outputs": [
    {
     "data": {
      "text/plain": [
       "true"
      ]
     },
     "execution_count": 41,
     "metadata": {},
     "output_type": "execute_result"
    }
   ],
   "source": [
    "0.0 == -0.0"
   ]
  },
  {
   "cell_type": "code",
   "execution_count": 42,
   "id": "6633f578-e237-4f13-80d3-257f308aac6f",
   "metadata": {},
   "outputs": [
    {
     "data": {
      "text/plain": [
       "false"
      ]
     },
     "execution_count": 42,
     "metadata": {},
     "output_type": "execute_result"
    }
   ],
   "source": [
    "isequal(0.0, -0.0)"
   ]
  },
  {
   "cell_type": "markdown",
   "id": "efb6519f-3afd-4903-bcf2-c2bc8e5c5bf1",
   "metadata": {},
   "source": [
    "### Elementary functions\n",
    "\n",
    "- Can also be vectorized"
   ]
  },
  {
   "cell_type": "code",
   "execution_count": 43,
   "id": "c015b4cb-0875-4cfb-a466-7bec07eb71a3",
   "metadata": {},
   "outputs": [
    {
     "data": {
      "text/plain": [
       "3-element Vector{Float64}:\n",
       " -0.9589242746631385\n",
       "  0.6569865987187891\n",
       "  0.4121184852417566"
      ]
     },
     "execution_count": 43,
     "metadata": {},
     "output_type": "execute_result"
    }
   ],
   "source": [
    "sin.(x)"
   ]
  },
  {
   "cell_type": "markdown",
   "id": "2afbbe76-0e9e-4807-b4a0-ab08db19a9ca",
   "metadata": {},
   "source": [
    "### Numerical conversion"
   ]
  },
  {
   "cell_type": "code",
   "execution_count": 44,
   "id": "9402fdc9-34ef-4811-9d4e-99d5da514a44",
   "metadata": {},
   "outputs": [
    {
     "ename": "LoadError",
     "evalue": "InexactError: trunc(Int8, 130)",
     "output_type": "error",
     "traceback": [
      "InexactError: trunc(Int8, 130)",
      "",
      "Stacktrace:",
      " [1] throw_inexacterror(f::Symbol, #unused#::Type{Int8}, val::Int64)",
      "   @ Core ./boot.jl:602",
      " [2] checked_trunc_sint",
      "   @ ./boot.jl:624 [inlined]",
      " [3] toInt8",
      "   @ ./boot.jl:639 [inlined]",
      " [4] Int8(x::Int64)",
      "   @ Core ./boot.jl:749",
      " [5] top-level scope",
      "   @ In[44]:1",
      " [6] eval",
      "   @ ./boot.jl:360 [inlined]",
      " [7] include_string(mapexpr::typeof(REPL.softscope), mod::Module, code::String, filename::String)",
      "   @ Base ./loading.jl:1116"
     ]
    }
   ],
   "source": [
    "Int8(130)"
   ]
  },
  {
   "cell_type": "code",
   "execution_count": 45,
   "id": "33d8e55b-f19f-4f04-9eb1-d835cb39ca1c",
   "metadata": {},
   "outputs": [
    {
     "ename": "LoadError",
     "evalue": "InexactError: Int32(2.4)",
     "output_type": "error",
     "traceback": [
      "InexactError: Int32(2.4)",
      "",
      "Stacktrace:",
      " [1] Int32(x::Float64)",
      "   @ Base ./float.jl:702",
      " [2] top-level scope",
      "   @ In[45]:1",
      " [3] eval",
      "   @ ./boot.jl:360 [inlined]",
      " [4] include_string(mapexpr::typeof(REPL.softscope), mod::Module, code::String, filename::String)",
      "   @ Base ./loading.jl:1116"
     ]
    }
   ],
   "source": [
    "Int32(2.4)"
   ]
  },
  {
   "cell_type": "code",
   "execution_count": 46,
   "id": "c28bc347-70e9-4d1f-bb46-bb8b226b3458",
   "metadata": {},
   "outputs": [
    {
     "data": {
      "text/plain": [
       "127"
      ]
     },
     "execution_count": 46,
     "metadata": {},
     "output_type": "execute_result"
    }
   ],
   "source": [
    "Int(127)"
   ]
  },
  {
   "cell_type": "code",
   "execution_count": 47,
   "id": "3990a677-af76-4780-a294-53cecb8ad166",
   "metadata": {},
   "outputs": [
    {
     "data": {
      "text/plain": [
       "127"
      ]
     },
     "execution_count": 47,
     "metadata": {},
     "output_type": "execute_result"
    }
   ],
   "source": [
    "127 % Int"
   ]
  },
  {
   "cell_type": "markdown",
   "id": "9624b679-4b65-4e77-b4e4-69846b7e40b7",
   "metadata": {},
   "source": [
    "### Rounding"
   ]
  },
  {
   "cell_type": "code",
   "execution_count": 49,
   "id": "2cfd8e1f-395d-42f7-8bee-3db7620a0d21",
   "metadata": {},
   "outputs": [
    {
     "data": {
      "text/plain": [
       "2.0"
      ]
     },
     "execution_count": 49,
     "metadata": {},
     "output_type": "execute_result"
    }
   ],
   "source": [
    "round(2.4)"
   ]
  },
  {
   "cell_type": "code",
   "execution_count": 50,
   "id": "937a7914-6fbc-4737-97c9-5cbc418b8cb4",
   "metadata": {},
   "outputs": [
    {
     "data": {
      "text/plain": [
       "2.0"
      ]
     },
     "execution_count": 50,
     "metadata": {},
     "output_type": "execute_result"
    }
   ],
   "source": [
    "floor(2.4)"
   ]
  },
  {
   "cell_type": "code",
   "execution_count": 51,
   "id": "edab8c02-8123-48c2-80fb-5021836bc9eb",
   "metadata": {},
   "outputs": [
    {
     "data": {
      "text/plain": [
       "3.0"
      ]
     },
     "execution_count": 51,
     "metadata": {},
     "output_type": "execute_result"
    }
   ],
   "source": [
    "ceil(2.4)"
   ]
  },
  {
   "cell_type": "code",
   "execution_count": 52,
   "id": "d4335526-f805-49e4-b77d-ae47c6366afa",
   "metadata": {},
   "outputs": [
    {
     "data": {
      "text/plain": [
       "2.0"
      ]
     },
     "execution_count": 52,
     "metadata": {},
     "output_type": "execute_result"
    }
   ],
   "source": [
    "trunc(2.4)"
   ]
  },
  {
   "cell_type": "code",
   "execution_count": 54,
   "id": "a451f126-90c8-4cee-91cc-aa86b2fb6d90",
   "metadata": {},
   "outputs": [
    {
     "data": {
      "text/plain": [
       "12"
      ]
     },
     "execution_count": 54,
     "metadata": {},
     "output_type": "execute_result"
    }
   ],
   "source": [
    "trunc(Int8, 12.2)"
   ]
  },
  {
   "cell_type": "code",
   "execution_count": 55,
   "id": "a020acfa-5caf-45a1-8597-e25c4c833952",
   "metadata": {},
   "outputs": [
    {
     "ename": "LoadError",
     "evalue": "InexactError: trunc(Int8, 129)",
     "output_type": "error",
     "traceback": [
      "InexactError: trunc(Int8, 129)",
      "",
      "Stacktrace:",
      " [1] throw_inexacterror(f::Symbol, #unused#::Type{Int8}, val::Int64)",
      "   @ Core ./boot.jl:602",
      " [2] checked_trunc_sint",
      "   @ ./boot.jl:624 [inlined]",
      " [3] toInt8",
      "   @ ./boot.jl:639 [inlined]",
      " [4] Int8",
      "   @ ./boot.jl:749 [inlined]",
      " [5] convert",
      "   @ ./number.jl:7 [inlined]",
      " [6] trunc(#unused#::Type{Int8}, x::Int64)",
      "   @ Base ./int.jl:595",
      " [7] top-level scope",
      "   @ In[55]:1",
      " [8] eval",
      "   @ ./boot.jl:360 [inlined]",
      " [9] include_string(mapexpr::typeof(REPL.softscope), mod::Module, code::String, filename::String)",
      "   @ Base ./loading.jl:1116"
     ]
    }
   ],
   "source": [
    "trunc(Int8, 129)"
   ]
  },
  {
   "cell_type": "markdown",
   "id": "ac10a1ee-3472-4da7-8b9f-a24641717f9a",
   "metadata": {},
   "source": [
    "### Sign and absolute value functions"
   ]
  },
  {
   "cell_type": "code",
   "execution_count": 56,
   "id": "4c597fc0-86e7-46c2-b1e1-00221d24c959",
   "metadata": {},
   "outputs": [
    {
     "data": {
      "text/plain": [
       "2"
      ]
     },
     "execution_count": 56,
     "metadata": {},
     "output_type": "execute_result"
    }
   ],
   "source": [
    "abs(-2)"
   ]
  },
  {
   "cell_type": "code",
   "execution_count": 57,
   "id": "d3c3a3fc-c6d9-4461-87a9-a33c8cb0e035",
   "metadata": {},
   "outputs": [
    {
     "data": {
      "text/plain": [
       "9.8596"
      ]
     },
     "execution_count": 57,
     "metadata": {},
     "output_type": "execute_result"
    }
   ],
   "source": [
    "abs2(-3.14)"
   ]
  },
  {
   "cell_type": "code",
   "execution_count": 58,
   "id": "b33cd42e-bc9e-4353-9114-9321ce3d39c6",
   "metadata": {},
   "outputs": [
    {
     "data": {
      "text/plain": [
       "-0.0"
      ]
     },
     "execution_count": 58,
     "metadata": {},
     "output_type": "execute_result"
    }
   ],
   "source": [
    "sign(-0.0)"
   ]
  },
  {
   "cell_type": "code",
   "execution_count": 60,
   "id": "52e60ae2-0fb3-4325-85e3-e9d28691d047",
   "metadata": {},
   "outputs": [
    {
     "data": {
      "text/plain": [
       "1"
      ]
     },
     "execution_count": 60,
     "metadata": {},
     "output_type": "execute_result"
    }
   ],
   "source": [
    "sign(5)"
   ]
  },
  {
   "cell_type": "markdown",
   "id": "8004122a-936c-4214-ba68-6f86ce2750d9",
   "metadata": {},
   "source": [
    "### Power, logs, and roots"
   ]
  },
  {
   "cell_type": "code",
   "execution_count": 61,
   "id": "788ac189-b4c5-4a73-a6ca-1251f064439f",
   "metadata": {},
   "outputs": [
    {
     "data": {
      "text/plain": [
       "1.4422495703074083"
      ]
     },
     "execution_count": 61,
     "metadata": {},
     "output_type": "execute_result"
    }
   ],
   "source": [
    "∛3"
   ]
  },
  {
   "cell_type": "code",
   "execution_count": 63,
   "id": "38e99bfb-2f9d-4341-9657-a7c5e0806d72",
   "metadata": {},
   "outputs": [
    {
     "data": {
      "text/plain": [
       "1.4142135623730951"
      ]
     },
     "execution_count": 63,
     "metadata": {},
     "output_type": "execute_result"
    }
   ],
   "source": [
    "√2"
   ]
  },
  {
   "cell_type": "code",
   "execution_count": 64,
   "id": "43fb3bba-4ce1-4c62-ad71-931ece706cb1",
   "metadata": {},
   "outputs": [
    {
     "data": {
      "text/plain": [
       "0.6931471805599453"
      ]
     },
     "execution_count": 64,
     "metadata": {},
     "output_type": "execute_result"
    }
   ],
   "source": [
    "log(2)"
   ]
  },
  {
   "cell_type": "code",
   "execution_count": 65,
   "id": "a78d064c-1784-49e9-9b04-42f716f973f9",
   "metadata": {},
   "outputs": [
    {
     "data": {
      "text/plain": [
       "1.0"
      ]
     },
     "execution_count": 65,
     "metadata": {},
     "output_type": "execute_result"
    }
   ],
   "source": [
    "log10(10)"
   ]
  },
  {
   "cell_type": "code",
   "execution_count": 66,
   "id": "69d1332b-22dd-447b-adcb-a7d116cb39a2",
   "metadata": {},
   "outputs": [
    {
     "data": {
      "text/plain": [
       "7.38905609893065"
      ]
     },
     "execution_count": 66,
     "metadata": {},
     "output_type": "execute_result"
    }
   ],
   "source": [
    "exp(2)"
   ]
  },
  {
   "cell_type": "code",
   "execution_count": 70,
   "id": "fc4bfcca-e5c0-43b7-90b7-70f5ca2db136",
   "metadata": {},
   "outputs": [
    {
     "data": {
      "text/plain": [
       "3.605551275463989"
      ]
     },
     "execution_count": 70,
     "metadata": {},
     "output_type": "execute_result"
    }
   ],
   "source": [
    "hypot(-2, 3)"
   ]
  },
  {
   "cell_type": "markdown",
   "id": "a8051a90-d360-402b-b69e-ab02c8f1123f",
   "metadata": {},
   "source": [
    "### Trigonometric and hyperbolic functions"
   ]
  },
  {
   "cell_type": "code",
   "execution_count": 79,
   "id": "fb830e22-6dfa-48ae-b5f0-2432d32dba0f",
   "metadata": {},
   "outputs": [
    {
     "data": {
      "text/plain": [
       "1.0"
      ]
     },
     "execution_count": 79,
     "metadata": {},
     "output_type": "execute_result"
    }
   ],
   "source": [
    "sin(π / 2)"
   ]
  },
  {
   "cell_type": "markdown",
   "id": "cd2ad581-c137-4850-9436-71da4bd0190e",
   "metadata": {},
   "source": [
    "- Use the `d` version for degrees"
   ]
  },
  {
   "cell_type": "code",
   "execution_count": 75,
   "id": "594019c6-6707-4e24-b144-3993ca33ac3f",
   "metadata": {},
   "outputs": [
    {
     "data": {
      "text/plain": [
       "1.0"
      ]
     },
     "execution_count": 75,
     "metadata": {},
     "output_type": "execute_result"
    }
   ],
   "source": [
    "sind(90.)"
   ]
  },
  {
   "cell_type": "code",
   "execution_count": 77,
   "id": "e9561012-6190-49a0-83a8-2673c9e91750",
   "metadata": {},
   "outputs": [
    {
     "data": {
      "text/plain": [
       "0.8660254037844386"
      ]
     },
     "execution_count": 77,
     "metadata": {},
     "output_type": "execute_result"
    }
   ],
   "source": [
    "cosd(30.)"
   ]
  },
  {
   "cell_type": "markdown",
   "id": "e7506d0d-3b4b-4e14-95be-e902d89a8cfa",
   "metadata": {},
   "source": [
    "- `atan` accepts two arguments corresponding to a traditional `atan2` function.\n",
    "    - `atan2(y,x)` is the argument (also called phase or angle) of the complex number `x+iy`"
   ]
  },
  {
   "cell_type": "code",
   "execution_count": 80,
   "id": "ab83f69d-6295-45d9-a70a-274de508847d",
   "metadata": {},
   "outputs": [
    {
     "data": {
      "text/plain": [
       "1.1071487177940904"
      ]
     },
     "execution_count": 80,
     "metadata": {},
     "output_type": "execute_result"
    }
   ],
   "source": [
    "atan(2.0, 1.0)"
   ]
  },
  {
   "cell_type": "markdown",
   "id": "b1a07f41-37a7-4274-9fb9-af5b597347d1",
   "metadata": {},
   "source": [
    "## Experiment on FITS file"
   ]
  },
  {
   "cell_type": "code",
   "execution_count": 82,
   "id": "52e11ecd-7c33-43cd-9740-41f5411dbdf7",
   "metadata": {},
   "outputs": [],
   "source": [
    "fits_file = FITS(\"/Users/song/Dropbox/work/project/huoguo/huoguo/data/M51.fits\"); \n",
    "\n",
    "img = FITSIO.read(fits_file[1]);"
   ]
  },
  {
   "cell_type": "code",
   "execution_count": 181,
   "id": "e043b06d-c00a-46bf-8825-017fe3147e6c",
   "metadata": {},
   "outputs": [
    {
     "data": {
      "text/plain": [
       "polar2cart (generic function with 1 method)"
      ]
     },
     "execution_count": 181,
     "metadata": {},
     "output_type": "execute_result"
    }
   ],
   "source": [
    "function cart2polar(x, y)\n",
    "    return hypot.(x, y), atan.(y, x)\n",
    "end\n",
    "\n",
    "\n",
    "function polar2cart(r, θ)\n",
    "    return r .* cos.(θ), r .* sin.(θ)\n",
    "end"
   ]
  },
  {
   "cell_type": "code",
   "execution_count": 113,
   "id": "367dc4ff-2d0f-495c-9990-f2efe1e12843",
   "metadata": {},
   "outputs": [],
   "source": [
    "x = y = 0:1:99; "
   ]
  },
  {
   "cell_type": "code",
   "execution_count": 120,
   "id": "631f4c6f-a821-477a-81c7-60a6a0e0ffed",
   "metadata": {},
   "outputs": [
    {
     "name": "stdout",
     "output_type": "stream",
     "text": [
      "  0.000022 seconds (3 allocations: 1.781 KiB)\n"
     ]
    },
    {
     "data": {
      "text/plain": [
       "([0.0, 1.4142135623730951, 2.8284271247461903, 4.242640687119285, 5.656854249492381, 7.0710678118654755, 8.48528137423857, 9.899494936611665, 11.313708498984761, 12.727922061357855  …  127.27922061357856, 128.69343417595164, 130.10764773832474, 131.52186130069785, 132.93607486307093, 134.35028842544403, 135.7645019878171, 137.17871555019022, 138.59292911256333, 140.0071426749364], [0.0, 0.7853981633974483, 0.7853981633974483, 0.7853981633974483, 0.7853981633974483, 0.7853981633974483, 0.7853981633974483, 0.7853981633974483, 0.7853981633974483, 0.7853981633974483  …  0.7853981633974483, 0.7853981633974483, 0.7853981633974483, 0.7853981633974483, 0.7853981633974483, 0.7853981633974483, 0.7853981633974483, 0.7853981633974483, 0.7853981633974483, 0.7853981633974483])"
      ]
     },
     "execution_count": 120,
     "metadata": {},
     "output_type": "execute_result"
    }
   ],
   "source": [
    "@time cart2polar(x, y)"
   ]
  },
  {
   "cell_type": "code",
   "execution_count": 116,
   "id": "206f84a4-7542-4998-b0b7-7d00cda10dd0",
   "metadata": {},
   "outputs": [
    {
     "data": {
      "text/plain": [
       "([0.0, 1.4142135623730951, 2.8284271247461903, 4.242640687119285, 5.656854249492381, 7.0710678118654755, 8.48528137423857, 9.899494936611665, 11.313708498984761, 12.727922061357855  …  127.27922061357856, 128.69343417595164, 130.10764773832474, 131.52186130069785, 132.93607486307093, 134.35028842544403, 135.7645019878171, 137.17871555019022, 138.59292911256333, 140.0071426749364], [0.0, 0.7853981633974483, 0.7853981633974483, 0.7853981633974483, 0.7853981633974483, 0.7853981633974483, 0.7853981633974483, 0.7853981633974483, 0.7853981633974483, 0.7853981633974483  …  0.7853981633974483, 0.7853981633974483, 0.7853981633974483, 0.7853981633974483, 0.7853981633974483, 0.7853981633974483, 0.7853981633974483, 0.7853981633974483, 0.7853981633974483, 0.7853981633974483])"
      ]
     },
     "execution_count": 116,
     "metadata": {},
     "output_type": "execute_result"
    }
   ],
   "source": [
    "r, θ = cart2polar(x, y)"
   ]
  },
  {
   "cell_type": "code",
   "execution_count": 117,
   "id": "96f4e072-1371-4fac-9f91-b5cdbee01f4a",
   "metadata": {},
   "outputs": [
    {
     "data": {
      "text/plain": [
       "([0.0, 1.0000000000000002, 2.0000000000000004, 3.0, 4.000000000000001, 5.000000000000001, 6.0, 7.000000000000001, 8.000000000000002, 9.0  …  90.00000000000001, 91.0, 92.0, 93.00000000000001, 94.0, 95.00000000000001, 96.0, 97.0, 98.00000000000001, 99.0], [0.0, 1.0, 2.0, 2.9999999999999996, 4.0, 5.0, 5.999999999999999, 6.999999999999999, 8.0, 8.999999999999998  …  90.0, 90.99999999999999, 91.99999999999999, 93.0, 93.99999999999999, 95.0, 95.99999999999999, 96.99999999999999, 98.0, 98.99999999999999])"
      ]
     },
     "execution_count": 117,
     "metadata": {},
     "output_type": "execute_result"
    }
   ],
   "source": [
    "xx, yy = polar2cart(r, θ)"
   ]
  },
  {
   "cell_type": "code",
   "execution_count": 130,
   "id": "ea1931af-d338-4b2e-be9f-484d13b1dada",
   "metadata": {},
   "outputs": [
    {
     "name": "stdout",
     "output_type": "stream",
     "text": [
      "  0.000011 seconds (3 allocations: 1.781 KiB)\n"
     ]
    },
    {
     "data": {
      "text/plain": [
       "([0.0, 1.0000000000000002, 2.0000000000000004, 3.0, 4.000000000000001, 5.000000000000001, 6.0, 7.000000000000001, 8.000000000000002, 9.0  …  90.00000000000001, 91.0, 92.0, 93.00000000000001, 94.0, 95.00000000000001, 96.0, 97.0, 98.00000000000001, 99.0], [0.0, 1.0, 2.0, 2.9999999999999996, 4.0, 5.0, 5.999999999999999, 6.999999999999999, 8.0, 8.999999999999998  …  90.0, 90.99999999999999, 91.99999999999999, 93.0, 93.99999999999999, 95.0, 95.99999999999999, 96.99999999999999, 98.0, 98.99999999999999])"
      ]
     },
     "execution_count": 130,
     "metadata": {},
     "output_type": "execute_result"
    }
   ],
   "source": [
    "@time polar2cart(r, θ)"
   ]
  },
  {
   "cell_type": "code",
   "execution_count": 154,
   "id": "45994e84-30cb-48cc-adbd-cc603e1bed8c",
   "metadata": {},
   "outputs": [],
   "source": [
    "(n, m) = size(img); "
   ]
  },
  {
   "cell_type": "code",
   "execution_count": 162,
   "id": "99a42b36-1ed9-4b2a-8119-fbb4071e46ad",
   "metadata": {},
   "outputs": [
    {
     "name": "stdout",
     "output_type": "stream",
     "text": [
      "  0.175630 seconds (65.37 k allocations: 7.600 MiB, 79.68% compilation time)\n"
     ]
    },
    {
     "data": {
      "text/plain": [
       "512×512 Matrix{Tuple{Float64, Float64}}:\n",
       " (362.039, -2.35619)   (361.332, -2.35815)   …  (361.332, 2.35815)\n",
       " (361.332, -2.35424)   (360.624, -2.35619)      (360.624, 2.35619)\n",
       " (360.627, -2.35227)   (359.918, -2.35423)      (359.918, 2.35423)\n",
       " (359.924, -2.3503)    (359.213, -2.35226)      (359.213, 2.35226)\n",
       " (359.221, -2.34832)   (358.509, -2.35028)      (358.509, 2.35028)\n",
       " (358.521, -2.34633)   (357.807, -2.34829)   …  (357.807, 2.34829)\n",
       " (357.821, -2.34434)   (357.106, -2.34629)      (357.106, 2.34629)\n",
       " (357.123, -2.34233)   (356.407, -2.34429)      (356.407, 2.34429)\n",
       " (356.427, -2.34032)   (355.709, -2.34228)      (355.709, 2.34228)\n",
       " (355.732, -2.3383)    (355.013, -2.34026)      (355.013, 2.34026)\n",
       " (355.038, -2.33628)   (354.318, -2.33823)   …  (354.318, 2.33823)\n",
       " (354.346, -2.33424)   (353.624, -2.3362)       (353.624, 2.3362)\n",
       " (353.655, -2.3322)    (352.932, -2.33415)      (352.932, 2.33415)\n",
       " ⋮                                           ⋱  \n",
       " (353.655, -0.809394)  (352.932, -0.807439)  …  (352.932, 0.807439)\n",
       " (354.346, -0.807351)  (353.624, -0.805395)     (353.624, 0.805395)\n",
       " (355.038, -0.805316)  (354.318, -0.80336)      (354.318, 0.80336)\n",
       " (355.732, -0.803289)  (355.013, -0.801333)     (355.013, 0.801333)\n",
       " (356.427, -0.80127)   (355.709, -0.799314)     (355.709, 0.799314)\n",
       " (357.123, -0.799259)  (356.407, -0.797302)  …  (356.407, 0.797302)\n",
       " (357.821, -0.797255)  (357.106, -0.795299)     (357.106, 0.795299)\n",
       " (358.521, -0.79526)   (357.807, -0.793303)     (357.807, 0.793303)\n",
       " (359.221, -0.793272)  (358.509, -0.791315)     (358.509, 0.791315)\n",
       " (359.924, -0.791292)  (359.213, -0.789335)     (359.213, 0.789335)\n",
       " (360.627, -0.78932)   (359.918, -0.787363)  …  (359.918, 0.787363)\n",
       " (361.332, -0.787355)  (360.624, -0.785398)     (360.624, 0.785398)"
      ]
     },
     "execution_count": 162,
     "metadata": {},
     "output_type": "execute_result"
    }
   ],
   "source": [
    "@time d = [cart2polar(x - 256., y - 256.) for x in 0:(m-1), y in 0:(n-1)]"
   ]
  },
  {
   "cell_type": "code",
   "execution_count": 214,
   "id": "9c3458e8-7bfa-4c13-bb8d-8a836d0bf2b2",
   "metadata": {},
   "outputs": [
    {
     "data": {
      "text/plain": [
       "imgPolarCoord (generic function with 1 method)"
      ]
     },
     "execution_count": 214,
     "metadata": {},
     "output_type": "execute_result"
    }
   ],
   "source": [
    "function imgPolarCoord(img)\n",
    "    (n, m) = size(img)\n",
    "    xid = (0:m-1)' .* ones(n) .- n / 2\n",
    "    yid = ones(m)' .* (0:n-1) .- m / 2\n",
    "    \n",
    "    return hypot.(xid, yid), atan.(yid, xid)\n",
    "end"
   ]
  },
  {
   "cell_type": "code",
   "execution_count": 262,
   "id": "15a13946-ee9f-46f7-bd0a-3b6506b69056",
   "metadata": {},
   "outputs": [
    {
     "data": {
      "text/plain": [
       "imgPolarCoord2 (generic function with 1 method)"
      ]
     },
     "execution_count": 262,
     "metadata": {},
     "output_type": "execute_result"
    }
   ],
   "source": [
    "function cart2polar(x, y)\n",
    "    return hypot(x, y), atan(y, x)\n",
    "end\n",
    "\n",
    "function imgPolarCoord2(img)\n",
    "    (n, m) = size(img)\n",
    "    return [cart2polar.(x - n/2, y - m/2) for x in 0:(m-1), y in 0:(n-1)]\n",
    "end"
   ]
  },
  {
   "cell_type": "code",
   "execution_count": 265,
   "id": "eccab831-031d-4bc8-bab5-e2eba3f0ed50",
   "metadata": {},
   "outputs": [
    {
     "name": "stdout",
     "output_type": "stream",
     "text": [
      "  0.010415 seconds (2 allocations: 4.000 MiB)\n"
     ]
    }
   ],
   "source": [
    "@time pcoord = imgPolarCoord2(img);"
   ]
  },
  {
   "cell_type": "code",
   "execution_count": 264,
   "id": "254bf659-19ef-457a-a869-aad41df263fc",
   "metadata": {},
   "outputs": [
    {
     "name": "stdout",
     "output_type": "stream",
     "text": [
      "  0.012975 seconds (13 allocations: 8.008 MiB)\n"
     ]
    }
   ],
   "source": [
    "@time r, θ = imgPolarCoord(img);"
   ]
  },
  {
   "cell_type": "code",
   "execution_count": 266,
   "id": "e1f1a55d-8633-4806-862c-3862e55c5aa3",
   "metadata": {},
   "outputs": [],
   "source": [
    "data = zeros(1000, 1000); "
   ]
  },
  {
   "cell_type": "code",
   "execution_count": 269,
   "id": "2441034f-9499-4f37-978f-300ed1bc9627",
   "metadata": {},
   "outputs": [
    {
     "name": "stdout",
     "output_type": "stream",
     "text": [
      "  0.039558 seconds (13 allocations: 30.533 MiB)\n"
     ]
    }
   ],
   "source": [
    "@time r, θ = imgPolarCoord(data);"
   ]
  },
  {
   "cell_type": "code",
   "execution_count": 270,
   "id": "1c367cd4-5981-4fdb-b1a9-39514a260f2c",
   "metadata": {},
   "outputs": [
    {
     "name": "stdout",
     "output_type": "stream",
     "text": [
      "  0.046224 seconds (2 allocations: 15.259 MiB, 15.74% gc time)\n"
     ]
    }
   ],
   "source": [
    "@time pcoord = imgPolarCoord2(data);"
   ]
  },
  {
   "cell_type": "code",
   "execution_count": null,
   "id": "03c50e51-7655-4143-b3ad-1e04aeb9fac2",
   "metadata": {},
   "outputs": [],
   "source": []
  }
 ],
 "metadata": {
  "kernelspec": {
   "display_name": "Julia 1.6.2",
   "language": "julia",
   "name": "julia-1.6"
  },
  "language_info": {
   "file_extension": ".jl",
   "mimetype": "application/julia",
   "name": "julia",
   "version": "1.6.2"
  }
 },
 "nbformat": 4,
 "nbformat_minor": 5
}
