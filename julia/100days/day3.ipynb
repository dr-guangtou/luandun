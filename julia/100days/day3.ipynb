{
 "cells": [
  {
   "cell_type": "markdown",
   "id": "d4deabda-ff7a-4ad6-948a-dc0f10d2e572",
   "metadata": {},
   "source": [
    "# Day 3: Complex and Rational Numbers; Strings\n",
    "\n",
    "## Reference:\n",
    "\n",
    "- Julia document: [Complex and Rational Numbers](https://docs.julialang.org/en/v1/manual/complex-and-rational-numbers/)"
   ]
  },
  {
   "cell_type": "code",
   "execution_count": 1,
   "id": "1ba8384f-0dd5-4212-bf81-35895ad93382",
   "metadata": {},
   "outputs": [],
   "source": [
    "using Printf\n",
    "using FITSIO\n",
    "using PyPlot\n",
    "using PyCall"
   ]
  },
  {
   "cell_type": "markdown",
   "id": "faca1d52-4056-4940-bcf2-ff9efb8c6e41",
   "metadata": {},
   "source": [
    "### Complex numbers"
   ]
  },
  {
   "cell_type": "markdown",
   "id": "0cdc5708-b076-4aa3-964f-3558335824eb",
   "metadata": {},
   "source": [
    "- `im` is a global constant to indicate complex number"
   ]
  },
  {
   "cell_type": "code",
   "execution_count": 2,
   "id": "af5060ba-2267-4521-b0f1-97781b288324",
   "metadata": {},
   "outputs": [
    {
     "data": {
      "text/plain": [
       "1 + 2im"
      ]
     },
     "execution_count": 2,
     "metadata": {},
     "output_type": "execute_result"
    }
   ],
   "source": [
    "1 + 2im"
   ]
  },
  {
   "cell_type": "code",
   "execution_count": 3,
   "id": "b16d161f-4146-4c7f-bd57-cb637f0694a1",
   "metadata": {},
   "outputs": [],
   "source": [
    "x = 3 - 4im; "
   ]
  },
  {
   "cell_type": "code",
   "execution_count": 4,
   "id": "e9df1789-cedd-4524-aa0f-586acfa71158",
   "metadata": {},
   "outputs": [
    {
     "data": {
      "text/plain": [
       "3"
      ]
     },
     "execution_count": 4,
     "metadata": {},
     "output_type": "execute_result"
    }
   ],
   "source": [
    "real(x)"
   ]
  },
  {
   "cell_type": "code",
   "execution_count": 5,
   "id": "c5f2e2dc-2447-4521-b8b6-8650d61122cf",
   "metadata": {},
   "outputs": [
    {
     "data": {
      "text/plain": [
       "-4"
      ]
     },
     "execution_count": 5,
     "metadata": {},
     "output_type": "execute_result"
    }
   ],
   "source": [
    "imag(x)"
   ]
  },
  {
   "cell_type": "code",
   "execution_count": 6,
   "id": "b7a2db11-90b3-4f9e-afbc-3e9f770d250b",
   "metadata": {},
   "outputs": [
    {
     "data": {
      "text/plain": [
       "3 + 4im"
      ]
     },
     "execution_count": 6,
     "metadata": {},
     "output_type": "execute_result"
    }
   ],
   "source": [
    "conj(x)"
   ]
  },
  {
   "cell_type": "markdown",
   "id": "32755772-c94a-4625-a434-b7ef46088d97",
   "metadata": {},
   "source": [
    "- Phase angle in radians"
   ]
  },
  {
   "cell_type": "code",
   "execution_count": 7,
   "id": "8355c12e-e2b0-4b38-a8d6-098a08935ac4",
   "metadata": {},
   "outputs": [
    {
     "data": {
      "text/plain": [
       "-0.9272952180016122"
      ]
     },
     "execution_count": 7,
     "metadata": {},
     "output_type": "execute_result"
    }
   ],
   "source": [
    "angle(x)"
   ]
  },
  {
   "cell_type": "code",
   "execution_count": 11,
   "id": "83fd56aa-57b5-44dc-8db8-eb387db5041c",
   "metadata": {},
   "outputs": [
    {
     "data": {
      "text/plain": [
       "0.0 + 1.0im"
      ]
     },
     "execution_count": 11,
     "metadata": {},
     "output_type": "execute_result"
    }
   ],
   "source": [
    "sqrt(-1 + 0im)"
   ]
  },
  {
   "cell_type": "markdown",
   "id": "61aa39d4-bbcc-4592-8b8d-1b0d470fe23d",
   "metadata": {},
   "source": [
    "- Recommended way to construct complex number"
   ]
  },
  {
   "cell_type": "code",
   "execution_count": 12,
   "id": "d9cdd4cc-d4fa-4589-aeb0-0e604cbc772e",
   "metadata": {},
   "outputs": [
    {
     "data": {
      "text/plain": [
       "2 + 3im"
      ]
     },
     "execution_count": 12,
     "metadata": {},
     "output_type": "execute_result"
    }
   ],
   "source": [
    "complex(2, 3)"
   ]
  },
  {
   "cell_type": "markdown",
   "id": "0f94982b-859a-449d-9678-677707209096",
   "metadata": {},
   "source": [
    "### Rational numbers\n",
    "\n",
    "- Julia has a rational number type to represent exact ratios of integers. "
   ]
  },
  {
   "cell_type": "code",
   "execution_count": 13,
   "id": "bae80265-9401-4cc6-94b4-ee021e44e298",
   "metadata": {},
   "outputs": [
    {
     "data": {
      "text/plain": [
       "2//3"
      ]
     },
     "execution_count": 13,
     "metadata": {},
     "output_type": "execute_result"
    }
   ],
   "source": [
    "2 // 3-5 // -15"
   ]
  },
  {
   "cell_type": "markdown",
   "id": "6bcfcd7f-03a2-4a0d-9e7c-e57b6fdb2311",
   "metadata": {},
   "source": [
    "- Common factors will be reduced"
   ]
  },
  {
   "cell_type": "code",
   "execution_count": 14,
   "id": "19256665-2f75-4621-87bd-1eec1d4c0427",
   "metadata": {},
   "outputs": [
    {
     "data": {
      "text/plain": [
       "2//3"
      ]
     },
     "execution_count": 14,
     "metadata": {},
     "output_type": "execute_result"
    }
   ],
   "source": [
    "6 // 9"
   ]
  },
  {
   "cell_type": "code",
   "execution_count": 15,
   "id": "9b2eb7c8-167d-4e63-8424-294d41fb0769",
   "metadata": {},
   "outputs": [
    {
     "data": {
      "text/plain": [
       "1//3"
      ]
     },
     "execution_count": 15,
     "metadata": {},
     "output_type": "execute_result"
    }
   ],
   "source": [
    "-5 // -15"
   ]
  },
  {
   "cell_type": "code",
   "execution_count": 18,
   "id": "b27d6e1e-ac1f-45a9-a07d-afa95aeb5b6f",
   "metadata": {},
   "outputs": [
    {
     "data": {
      "text/plain": [
       "true"
      ]
     },
     "execution_count": 18,
     "metadata": {},
     "output_type": "execute_result"
    }
   ],
   "source": [
    "2 // 3 == 4 // 6"
   ]
  },
  {
   "cell_type": "code",
   "execution_count": 19,
   "id": "e683fe99-7fb0-4b48-aa7c-61a1a70c5361",
   "metadata": {},
   "outputs": [
    {
     "data": {
      "text/plain": [
       "7//6"
      ]
     },
     "execution_count": 19,
     "metadata": {},
     "output_type": "execute_result"
    }
   ],
   "source": [
    "2 // 4 + 2 //3"
   ]
  },
  {
   "cell_type": "markdown",
   "id": "08d3e4b8-6739-4700-896d-502d24956b20",
   "metadata": {},
   "source": [
    "- Extract numerator and denominator"
   ]
  },
  {
   "cell_type": "code",
   "execution_count": 16,
   "id": "a6277711-c77b-4fd6-bd84-996cbc2155ed",
   "metadata": {},
   "outputs": [
    {
     "data": {
      "text/plain": [
       "2"
      ]
     },
     "execution_count": 16,
     "metadata": {},
     "output_type": "execute_result"
    }
   ],
   "source": [
    "numerator(6 // 9)"
   ]
  },
  {
   "cell_type": "code",
   "execution_count": 17,
   "id": "d35eb17c-0b93-4f66-b1bd-ac87f7ee3fb3",
   "metadata": {},
   "outputs": [
    {
     "data": {
      "text/plain": [
       "2"
      ]
     },
     "execution_count": 17,
     "metadata": {},
     "output_type": "execute_result"
    }
   ],
   "source": [
    "denominator(2 // 4)"
   ]
  },
  {
   "cell_type": "markdown",
   "id": "2a6a5889-39f5-4450-a1c2-df2935dd84b1",
   "metadata": {},
   "source": [
    "- Convert to float"
   ]
  },
  {
   "cell_type": "code",
   "execution_count": 20,
   "id": "51bb05c7-7c77-4bba-ad1a-c058df7d8c52",
   "metadata": {},
   "outputs": [
    {
     "data": {
      "text/plain": [
       "0.75"
      ]
     },
     "execution_count": 20,
     "metadata": {},
     "output_type": "execute_result"
    }
   ],
   "source": [
    "float(3 // 4)"
   ]
  },
  {
   "cell_type": "markdown",
   "id": "a9cf3eca-e6f6-4a07-aa8d-a09979ceb1e2",
   "metadata": {},
   "source": [
    "- Infinite rational values is Ok\n",
    "    - But `0 // 0` is not"
   ]
  },
  {
   "cell_type": "code",
   "execution_count": 21,
   "id": "3e590b5b-0738-47b9-a4f0-678fa56dcc40",
   "metadata": {},
   "outputs": [
    {
     "data": {
      "text/plain": [
       "1//0"
      ]
     },
     "execution_count": 21,
     "metadata": {},
     "output_type": "execute_result"
    }
   ],
   "source": [
    "5 // 0"
   ]
  },
  {
   "cell_type": "markdown",
   "id": "8f187209-eeba-4dad-b63a-9397e60e2338",
   "metadata": {},
   "source": [
    "### Strings\n",
    "\n",
    "- Julia `String` supports the full range of Unicode characters via the UTF-8 encoding.\n",
    "- There is a built-in single-character class called `Char`.\n"
   ]
  },
  {
   "cell_type": "code",
   "execution_count": 22,
   "id": "1af9c7b5-5d61-48f0-8ef0-c52df61943a8",
   "metadata": {},
   "outputs": [
    {
     "data": {
      "text/plain": [
       "'@': ASCII/Unicode U+0040 (category Po: Punctuation, other)"
      ]
     },
     "execution_count": 22,
     "metadata": {},
     "output_type": "execute_result"
    }
   ],
   "source": [
    "a = '@'"
   ]
  },
  {
   "cell_type": "code",
   "execution_count": 23,
   "id": "79d44c7a-0207-4ec3-8bdd-0446fa7bae32",
   "metadata": {},
   "outputs": [
    {
     "data": {
      "text/plain": [
       "64"
      ]
     },
     "execution_count": 23,
     "metadata": {},
     "output_type": "execute_result"
    }
   ],
   "source": [
    "Int(a)"
   ]
  },
  {
   "cell_type": "code",
   "execution_count": 25,
   "id": "2409cead-8eb3-45eb-974e-ccf6e03c0281",
   "metadata": {},
   "outputs": [
    {
     "data": {
      "text/plain": [
       "'x': ASCII/Unicode U+0078 (category Ll: Letter, lowercase)"
      ]
     },
     "execution_count": 25,
     "metadata": {},
     "output_type": "execute_result"
    }
   ],
   "source": [
    "Char(120)"
   ]
  },
  {
   "cell_type": "code",
   "execution_count": 26,
   "id": "794bdc04-a5bb-4d42-b7a9-c201e5079ac9",
   "metadata": {},
   "outputs": [
    {
     "data": {
      "text/plain": [
       "'B': ASCII/Unicode U+0042 (category Lu: Letter, uppercase)"
      ]
     },
     "execution_count": 26,
     "metadata": {},
     "output_type": "execute_result"
    }
   ],
   "source": [
    "'A' + 1"
   ]
  },
  {
   "cell_type": "code",
   "execution_count": 27,
   "id": "e85cc9cd-cbe7-4ee2-aa18-0208e43b32a2",
   "metadata": {},
   "outputs": [
    {
     "data": {
      "text/plain": [
       "true"
      ]
     },
     "execution_count": 27,
     "metadata": {},
     "output_type": "execute_result"
    }
   ],
   "source": [
    "'B' < 'b'"
   ]
  },
  {
   "cell_type": "code",
   "execution_count": 34,
   "id": "fcaf97ee-62b1-458b-8cdd-11f77f317a15",
   "metadata": {},
   "outputs": [
    {
     "data": {
      "text/plain": [
       "64491"
      ]
     },
     "execution_count": 34,
     "metadata": {},
     "output_type": "execute_result"
    }
   ],
   "source": [
    "Int('黄') + Int('崧')"
   ]
  },
  {
   "cell_type": "code",
   "execution_count": 33,
   "id": "8c00b6f7-3392-457f-b3eb-f8eccdc3b1de",
   "metadata": {},
   "outputs": [
    {
     "data": {
      "text/plain": [
       "65828"
      ]
     },
     "execution_count": 33,
     "metadata": {},
     "output_type": "execute_result"
    }
   ],
   "source": [
    "\n",
    "Int('顾') + Int('梦')"
   ]
  },
  {
   "cell_type": "code",
   "execution_count": 35,
   "id": "42c72507-9fd1-4c7d-b1c8-b2a6da4f52fb",
   "metadata": {},
   "outputs": [
    {
     "data": {
      "text/plain": [
       "\"Dr.Guangtou !\\n\""
      ]
     },
     "execution_count": 35,
     "metadata": {},
     "output_type": "execute_result"
    }
   ],
   "source": [
    "str = \"Dr.Guangtou !\\n\""
   ]
  },
  {
   "cell_type": "markdown",
   "id": "d989ec7e-4fb4-4c0a-aaa7-4fe3edfb1af8",
   "metadata": {},
   "source": [
    "- Extract characters from string"
   ]
  },
  {
   "cell_type": "code",
   "execution_count": 37,
   "id": "7e933c37-02e9-4b32-a9f4-aac1c7be37ef",
   "metadata": {},
   "outputs": [
    {
     "data": {
      "text/plain": [
       "'D': ASCII/Unicode U+0044 (category Lu: Letter, uppercase)"
      ]
     },
     "execution_count": 37,
     "metadata": {},
     "output_type": "execute_result"
    }
   ],
   "source": [
    "str[1]"
   ]
  },
  {
   "cell_type": "code",
   "execution_count": 38,
   "id": "cbe1e608-b314-4d0c-b9a3-29762a5f60e9",
   "metadata": {},
   "outputs": [
    {
     "data": {
      "text/plain": [
       "'D': ASCII/Unicode U+0044 (category Lu: Letter, uppercase)"
      ]
     },
     "execution_count": 38,
     "metadata": {},
     "output_type": "execute_result"
    }
   ],
   "source": [
    "str[begin]"
   ]
  },
  {
   "cell_type": "code",
   "execution_count": 39,
   "id": "36cbb56d-e1b6-4e42-8e14-f7d22e07db49",
   "metadata": {},
   "outputs": [
    {
     "data": {
      "text/plain": [
       "'\\n': ASCII/Unicode U+000A (category Cc: Other, control)"
      ]
     },
     "execution_count": 39,
     "metadata": {},
     "output_type": "execute_result"
    }
   ],
   "source": [
    "str[end]"
   ]
  },
  {
   "cell_type": "code",
   "execution_count": 40,
   "id": "0b17d7c1-4aba-4eec-bdf5-14f581904269",
   "metadata": {},
   "outputs": [
    {
     "data": {
      "text/plain": [
       "14"
      ]
     },
     "execution_count": 40,
     "metadata": {},
     "output_type": "execute_result"
    }
   ],
   "source": [
    "length(str)"
   ]
  },
  {
   "cell_type": "code",
   "execution_count": 42,
   "id": "20ed1408-6278-4cd6-b815-bc7ed0ce0628",
   "metadata": {},
   "outputs": [
    {
     "data": {
      "text/plain": [
       "1"
      ]
     },
     "execution_count": 42,
     "metadata": {},
     "output_type": "execute_result"
    }
   ],
   "source": [
    "firstindex(str)"
   ]
  },
  {
   "cell_type": "code",
   "execution_count": 44,
   "id": "d74394a0-5fb1-402d-a29e-46012256bd37",
   "metadata": {},
   "outputs": [
    {
     "data": {
      "text/plain": [
       "\"Dr.\""
      ]
     },
     "execution_count": 44,
     "metadata": {},
     "output_type": "execute_result"
    }
   ],
   "source": [
    "str[1:3]"
   ]
  },
  {
   "cell_type": "code",
   "execution_count": 45,
   "id": "0b4e1a69-73e1-43bb-8993-881d84bf26ee",
   "metadata": {},
   "outputs": [
    {
     "data": {
      "text/plain": [
       "false"
      ]
     },
     "execution_count": 45,
     "metadata": {},
     "output_type": "execute_result"
    }
   ],
   "source": [
    "str[1] == str[1:1]"
   ]
  },
  {
   "cell_type": "markdown",
   "id": "85eb8ffc-3251-4e88-a634-aa2c405d2b68",
   "metadata": {},
   "source": [
    "- Because:\n",
    "    - `str[1]` is a character.\n",
    "    - `str[1:1]` is a single-character string."
   ]
  },
  {
   "cell_type": "markdown",
   "id": "69e84245-47fc-41e6-9bab-f8b99ec94f28",
   "metadata": {},
   "source": [
    "- Remove leading and trailing characters from str"
   ]
  },
  {
   "cell_type": "code",
   "execution_count": 47,
   "id": "2f9f5dd9-c2ff-4e8d-856c-0f710807760b",
   "metadata": {},
   "outputs": [
    {
     "data": {
      "text/plain": [
       "\".Guangtou !\""
      ]
     },
     "execution_count": 47,
     "metadata": {},
     "output_type": "execute_result"
    }
   ],
   "source": [
    "strip(str, ['D', 'r', ' ', '\\n'])"
   ]
  },
  {
   "cell_type": "markdown",
   "id": "d12262a9-61e0-4897-9cc7-353065146247",
   "metadata": {},
   "source": [
    "- Remove a single trailing newline from a string."
   ]
  },
  {
   "cell_type": "code",
   "execution_count": 48,
   "id": "7fe7c21f-aa02-475d-9f83-7dd58c4210ca",
   "metadata": {},
   "outputs": [
    {
     "data": {
      "text/plain": [
       "\"Dr.Guangtou !\""
      ]
     },
     "execution_count": 48,
     "metadata": {},
     "output_type": "execute_result"
    }
   ],
   "source": [
    "chomp(str)"
   ]
  },
  {
   "cell_type": "markdown",
   "id": "52fdd26b-6c88-4a5b-8302-9dd822725c56",
   "metadata": {},
   "source": [
    "- Concatenation"
   ]
  },
  {
   "cell_type": "code",
   "execution_count": 54,
   "id": "47691953-6738-41e9-8cab-2bb7dba7bd55",
   "metadata": {},
   "outputs": [
    {
     "data": {
      "text/plain": [
       "\" is awesome!\\n\""
      ]
     },
     "execution_count": 54,
     "metadata": {},
     "output_type": "execute_result"
    }
   ],
   "source": [
    "str_2 = \" is awesome!\\n\""
   ]
  },
  {
   "cell_type": "code",
   "execution_count": 60,
   "id": "a6e50c8e-00fc-4dd2-9e23-0497f48b342d",
   "metadata": {},
   "outputs": [
    {
     "data": {
      "text/plain": [
       "\"Dr.Guangtou ! is awesome!\\n\""
      ]
     },
     "execution_count": 60,
     "metadata": {},
     "output_type": "execute_result"
    }
   ],
   "source": [
    "string(chomp(str), str_2)"
   ]
  },
  {
   "cell_type": "markdown",
   "id": "e87d0767-d4d1-41de-b2a4-e76a9b7b06c0",
   "metadata": {},
   "source": [
    "- Can use `*` to concatenate strings\n",
    "    - While `*` may seem like a surprising choice to users of languages that provide `+` for string concatenation, this use of * has precedent in mathematics, particularly in abstract algebra."
   ]
  },
  {
   "cell_type": "code",
   "execution_count": 61,
   "id": "c9b2ef4e-031b-4184-9da3-fe281b826a18",
   "metadata": {},
   "outputs": [
    {
     "data": {
      "text/plain": [
       "\"Dr.Guangtou !\\n is awesome!\\n\""
      ]
     },
     "execution_count": 61,
     "metadata": {},
     "output_type": "execute_result"
    }
   ],
   "source": [
    "str * str_2"
   ]
  },
  {
   "cell_type": "markdown",
   "id": "a4d426d0-c649-4907-9184-c70ad1e57d06",
   "metadata": {},
   "source": [
    "- Interpolation using `$`"
   ]
  },
  {
   "cell_type": "code",
   "execution_count": 64,
   "id": "63db4198-c934-49d0-b0b7-371f1645fd1c",
   "metadata": {},
   "outputs": [
    {
     "data": {
      "text/plain": [
       "\"Dr.Guangtou !\\n  is awesome!\\n !!\""
      ]
     },
     "execution_count": 64,
     "metadata": {},
     "output_type": "execute_result"
    }
   ],
   "source": [
    "\"$str $str_2 !!\""
   ]
  },
  {
   "cell_type": "code",
   "execution_count": 65,
   "id": "2b0be0b6-f61a-4c08-ab96-b83fc179b8e4",
   "metadata": {},
   "outputs": [
    {
     "data": {
      "text/plain": [
       "\"1 + 2 = 3\""
      ]
     },
     "execution_count": 65,
     "metadata": {},
     "output_type": "execute_result"
    }
   ],
   "source": [
    "\"1 + 2 = $(1 + 2)\""
   ]
  },
  {
   "cell_type": "code",
   "execution_count": 66,
   "id": "b3c174b3-fb2a-461c-8f55-418f17207a43",
   "metadata": {},
   "outputs": [
    {
     "data": {
      "text/plain": [
       "\"Show a: [1, 2, 3]\""
      ]
     },
     "execution_count": 66,
     "metadata": {},
     "output_type": "execute_result"
    }
   ],
   "source": [
    "a = [1 ,2 ,3];\n",
    "\n",
    "\"Show a: $a\""
   ]
  },
  {
   "cell_type": "markdown",
   "id": "5f68f312-2655-4585-9a33-ea44f7fd5e5e",
   "metadata": {},
   "source": [
    "- Show `$` in string using `\\$'"
   ]
  },
  {
   "cell_type": "code",
   "execution_count": 70,
   "id": "9f90a03b-d5d2-4228-a09b-849207fc181c",
   "metadata": {},
   "outputs": [
    {
     "name": "stdout",
     "output_type": "stream",
     "text": [
      "$ 100.00"
     ]
    }
   ],
   "source": [
    "print(\"\\$ 100.00\")"
   ]
  },
  {
   "cell_type": "markdown",
   "id": "36773e5a-7b0a-4a24-9ed4-a890ed3c3403",
   "metadata": {},
   "source": [
    "- Triple quoted string literals\n",
    "    - Triple-quoted string literals can contain `\"` characters without escaping."
   ]
  },
  {
   "cell_type": "code",
   "execution_count": 71,
   "id": "2467b6f4-06e9-48a3-9ab5-6dc548b3e24e",
   "metadata": {},
   "outputs": [
    {
     "data": {
      "text/plain": [
       "\" 万象挂空明，\\n 秋欲三更。\\n\""
      ]
     },
     "execution_count": 71,
     "metadata": {},
     "output_type": "execute_result"
    }
   ],
   "source": [
    "poem = \"\"\"\n",
    "     万象挂空明，\n",
    "     秋欲三更。\n",
    "    \"\"\""
   ]
  },
  {
   "cell_type": "code",
   "execution_count": 72,
   "id": "66c37b95-4e52-427f-933f-b939a1db52cb",
   "metadata": {},
   "outputs": [
    {
     "data": {
      "text/plain": [
       "\"Hello, \\\"Dr.Guangtou\\\" !\""
      ]
     },
     "execution_count": 72,
     "metadata": {},
     "output_type": "execute_result"
    }
   ],
   "source": [
    "\"\"\"Hello, \"Dr.Guangtou\" !\"\"\""
   ]
  },
  {
   "cell_type": "code",
   "execution_count": null,
   "id": "6bd73175-5c79-4143-9408-221af7b28f20",
   "metadata": {},
   "outputs": [],
   "source": []
  },
  {
   "cell_type": "code",
   "execution_count": 73,
   "id": "29934717-3252-44f2-bf35-f810e4a04384",
   "metadata": {},
   "outputs": [
    {
     "data": {
      "text/plain": [
       "true"
      ]
     },
     "execution_count": 73,
     "metadata": {},
     "output_type": "execute_result"
    }
   ],
   "source": [
    "'D' in str"
   ]
  },
  {
   "cell_type": "code",
   "execution_count": 75,
   "id": "d8ddb6ad-b378-4678-bf2c-32981f461d25",
   "metadata": {},
   "outputs": [
    {
     "ename": "LoadError",
     "evalue": "use occursin(x, y) for string containment",
     "output_type": "error",
     "traceback": [
      "use occursin(x, y) for string containment",
      "",
      "Stacktrace:",
      " [1] error(s::String)",
      "   @ Base ./error.jl:33",
      " [2] in(#unused#::String, #unused#::String)",
      "   @ Base ./strings/search.jl:637",
      " [3] top-level scope",
      "   @ In[75]:1",
      " [4] eval",
      "   @ ./boot.jl:360 [inlined]",
      " [5] include_string(mapexpr::typeof(REPL.softscope), mod::Module, code::String, filename::String)",
      "   @ Base ./loading.jl:1116"
     ]
    }
   ],
   "source": [
    "\"Dr\" in str"
   ]
  },
  {
   "cell_type": "code",
   "execution_count": 76,
   "id": "28fe2167-3703-4e83-8c9e-098c8da0e877",
   "metadata": {},
   "outputs": [
    {
     "data": {
      "text/plain": [
       "true"
      ]
     },
     "execution_count": 76,
     "metadata": {},
     "output_type": "execute_result"
    }
   ],
   "source": [
    "occursin(\"Dr\", str)"
   ]
  },
  {
   "cell_type": "markdown",
   "id": "7692463a-af7d-4bc0-bd25-7aa3ead2afc2",
   "metadata": {},
   "source": [
    "- Repeat characters or strings"
   ]
  },
  {
   "cell_type": "code",
   "execution_count": 77,
   "id": "08d71393-ff31-47d9-8219-46f3a94a7675",
   "metadata": {},
   "outputs": [
    {
     "data": {
      "text/plain": [
       "\"啊啊啊啊啊啊啊啊啊啊啊啊啊啊啊啊啊啊啊啊\""
      ]
     },
     "execution_count": 77,
     "metadata": {},
     "output_type": "execute_result"
    }
   ],
   "source": [
    "repeat(\"啊\", 20)"
   ]
  },
  {
   "cell_type": "code",
   "execution_count": 78,
   "id": "c36c2bd8-051b-43b5-aeff-acd4d3c7db21",
   "metadata": {},
   "outputs": [
    {
     "data": {
      "text/plain": [
       "\"stargalaxies\""
      ]
     },
     "execution_count": 78,
     "metadata": {},
     "output_type": "execute_result"
    }
   ],
   "source": [
    "join([\"star\", \"galaxies\"])"
   ]
  },
  {
   "cell_type": "code",
   "execution_count": 79,
   "id": "a83dfb48-41c2-457b-8838-841f7f4d312c",
   "metadata": {},
   "outputs": [
    {
     "data": {
      "text/plain": [
       "\"star galaxies\""
      ]
     },
     "execution_count": 79,
     "metadata": {},
     "output_type": "execute_result"
    }
   ],
   "source": [
    "join([\"star\", \"galaxies\"], \" \")"
   ]
  },
  {
   "cell_type": "markdown",
   "id": "7c04d114-3d01-4352-bb4c-2c1bc9dfe5b4",
   "metadata": {},
   "source": [
    "### Experiment on FITS file"
   ]
  },
  {
   "cell_type": "code",
   "execution_count": 83,
   "id": "69596db1-b552-4787-b200-0628d670bff6",
   "metadata": {},
   "outputs": [
    {
     "name": "stderr",
     "output_type": "stream",
     "text": [
      "\u001b[32m\u001b[1m    Updating\u001b[22m\u001b[39m registry at `~/.julia/registries/General`\n",
      "\u001b[32m\u001b[1m   Resolving\u001b[22m\u001b[39m package versions...\n",
      "\u001b[32m\u001b[1m   Installed\u001b[22m\u001b[39m Hwloc ─────────────── v2.0.0\n",
      "\u001b[32m\u001b[1m   Installed\u001b[22m\u001b[39m ArrayInterface ────── v3.1.18\n",
      "\u001b[32m\u001b[1m   Installed\u001b[22m\u001b[39m ThreadingUtilities ── v0.4.6\n",
      "\u001b[32m\u001b[1m   Installed\u001b[22m\u001b[39m Requires ──────────── v1.1.3\n",
      "\u001b[32m\u001b[1m   Installed\u001b[22m\u001b[39m OffsetArrays ──────── v1.10.3\n",
      "\u001b[32m\u001b[1m   Installed\u001b[22m\u001b[39m DocStringExtensions ─ v0.8.5\n",
      "\u001b[32m\u001b[1m   Installed\u001b[22m\u001b[39m VectorizationBase ─── v0.20.25\n",
      "\u001b[32m\u001b[1m   Installed\u001b[22m\u001b[39m UnPack ────────────── v1.0.2\n",
      "\u001b[32m\u001b[1m   Installed\u001b[22m\u001b[39m IfElse ────────────── v0.1.0\n",
      "\u001b[32m\u001b[1m   Installed\u001b[22m\u001b[39m Polyester ─────────── v0.3.7\n",
      "\u001b[32m\u001b[1m   Installed\u001b[22m\u001b[39m ManualMemory ──────── v0.1.4\n",
      "\u001b[32m\u001b[1m   Installed\u001b[22m\u001b[39m StrideArraysCore ──── v0.1.17\n",
      "\u001b[32m\u001b[1m   Installed\u001b[22m\u001b[39m Static ────────────── v0.3.0\n",
      "\u001b[32m\u001b[1m   Installed\u001b[22m\u001b[39m SLEEFPirates ──────── v0.6.25\n",
      "\u001b[32m\u001b[1m   Installed\u001b[22m\u001b[39m Adapt ─────────────── v3.3.1\n",
      "\u001b[32m\u001b[1m   Installed\u001b[22m\u001b[39m Hwloc_jll ─────────── v2.5.0+0\n",
      "\u001b[32m\u001b[1m   Installed\u001b[22m\u001b[39m LoopVectorization ─── v0.12.56\n",
      "\u001b[32m\u001b[1m    Updating\u001b[22m\u001b[39m `~/.julia/environments/v1.6/Project.toml`\n",
      " \u001b[90m [bdcacae8] \u001b[39m\u001b[92m+ LoopVectorization v0.12.56\u001b[39m\n",
      "\u001b[32m\u001b[1m    Updating\u001b[22m\u001b[39m `~/.julia/environments/v1.6/Manifest.toml`\n",
      " \u001b[90m [79e6a3ab] \u001b[39m\u001b[92m+ Adapt v3.3.1\u001b[39m\n",
      " \u001b[90m [4fba245c] \u001b[39m\u001b[92m+ ArrayInterface v3.1.18\u001b[39m\n",
      " \u001b[90m [ffbed154] \u001b[39m\u001b[92m+ DocStringExtensions v0.8.5\u001b[39m\n",
      " \u001b[90m [0e44f5e4] \u001b[39m\u001b[92m+ Hwloc v2.0.0\u001b[39m\n",
      " \u001b[90m [615f187c] \u001b[39m\u001b[92m+ IfElse v0.1.0\u001b[39m\n",
      " \u001b[90m [bdcacae8] \u001b[39m\u001b[92m+ LoopVectorization v0.12.56\u001b[39m\n",
      " \u001b[90m [d125e4d3] \u001b[39m\u001b[92m+ ManualMemory v0.1.4\u001b[39m\n",
      " \u001b[90m [6fe1bfb0] \u001b[39m\u001b[92m+ OffsetArrays v1.10.3\u001b[39m\n",
      " \u001b[90m [f517fe37] \u001b[39m\u001b[92m+ Polyester v0.3.7\u001b[39m\n",
      " \u001b[90m [ae029012] \u001b[39m\u001b[92m+ Requires v1.1.3\u001b[39m\n",
      " \u001b[90m [476501e8] \u001b[39m\u001b[92m+ SLEEFPirates v0.6.25\u001b[39m\n",
      " \u001b[90m [aedffcd0] \u001b[39m\u001b[92m+ Static v0.3.0\u001b[39m\n",
      " \u001b[90m [7792a7ef] \u001b[39m\u001b[92m+ StrideArraysCore v0.1.17\u001b[39m\n",
      " \u001b[90m [8290d209] \u001b[39m\u001b[92m+ ThreadingUtilities v0.4.6\u001b[39m\n",
      " \u001b[90m [3a884ed6] \u001b[39m\u001b[92m+ UnPack v1.0.2\u001b[39m\n",
      " \u001b[90m [3d5dd08c] \u001b[39m\u001b[92m+ VectorizationBase v0.20.25\u001b[39m\n",
      " \u001b[90m [e33a78d0] \u001b[39m\u001b[92m+ Hwloc_jll v2.5.0+0\u001b[39m\n",
      "\u001b[32m\u001b[1mPrecompiling\u001b[22m\u001b[39m project...\n",
      "\u001b[32m  ✓ \u001b[39m\u001b[90mIfElse\u001b[39m\n",
      "\u001b[32m  ✓ \u001b[39m\u001b[90mUnPack\u001b[39m\n",
      "\u001b[32m  ✓ \u001b[39m\u001b[90mAdapt\u001b[39m\n",
      "\u001b[32m  ✓ \u001b[39m\u001b[90mManualMemory\u001b[39m\n",
      "\u001b[32m  ✓ \u001b[39m\u001b[90mRequires\u001b[39m\n",
      "\u001b[32m  ✓ \u001b[39m\u001b[90mDocStringExtensions\u001b[39m\n",
      "\u001b[32m  ✓ \u001b[39m\u001b[90mStatic\u001b[39m\n",
      "\u001b[32m  ✓ \u001b[39m\u001b[90mThreadingUtilities\u001b[39m\n",
      "\u001b[32m  ✓ \u001b[39m\u001b[90mHwloc_jll\u001b[39m\n",
      "\u001b[32m  ✓ \u001b[39m\u001b[90mOffsetArrays\u001b[39m\n",
      "\u001b[32m  ✓ \u001b[39m\u001b[90mHwloc\u001b[39m\n",
      "\u001b[32m  ✓ \u001b[39m\u001b[90mArrayInterface\u001b[39m\n",
      "\u001b[32m  ✓ \u001b[39m\u001b[90mVectorizationBase\u001b[39m\n",
      "\u001b[32m  ✓ \u001b[39m\u001b[90mStrideArraysCore\u001b[39m\n",
      "\u001b[32m  ✓ \u001b[39m\u001b[90mSLEEFPirates\u001b[39m\n",
      "\u001b[32m  ✓ \u001b[39m\u001b[90mPolyester\u001b[39m\n",
      "\u001b[32m  ✓ \u001b[39mLoopVectorization\n",
      "  17 dependencies successfully precompiled in 32 seconds (42 already precompiled)\n"
     ]
    }
   ],
   "source": [
    "using Pkg\n",
    "Pkg.add(\"LoopVectorization\")"
   ]
  },
  {
   "cell_type": "code",
   "execution_count": 101,
   "id": "80d388ce-432d-4319-81c2-839edb5f1b7c",
   "metadata": {},
   "outputs": [
    {
     "name": "stderr",
     "output_type": "stream",
     "text": [
      "\u001b[32m\u001b[1m   Resolving\u001b[22m\u001b[39m package versions...\n",
      "\u001b[32m\u001b[1m   Installed\u001b[22m\u001b[39m BenchmarkTools ─ v1.1.1\n",
      "\u001b[32m\u001b[1m    Updating\u001b[22m\u001b[39m `~/.julia/environments/v1.6/Project.toml`\n",
      " \u001b[90m [6e4b80f9] \u001b[39m\u001b[92m+ BenchmarkTools v1.1.1\u001b[39m\n",
      "\u001b[32m\u001b[1m    Updating\u001b[22m\u001b[39m `~/.julia/environments/v1.6/Manifest.toml`\n",
      " \u001b[90m [6e4b80f9] \u001b[39m\u001b[92m+ BenchmarkTools v1.1.1\u001b[39m\n",
      "\u001b[32m\u001b[1mPrecompiling\u001b[22m\u001b[39m project...\n",
      "\u001b[32m  ✓ \u001b[39mBenchmarkTools\n",
      "  1 dependency successfully precompiled in 2 seconds (59 already precompiled)\n"
     ]
    }
   ],
   "source": [
    "Pkg.add(\"BenchmarkTools\")"
   ]
  },
  {
   "cell_type": "code",
   "execution_count": 102,
   "id": "cfe10714-3cdd-4b43-83fb-7a19f123c576",
   "metadata": {},
   "outputs": [],
   "source": [
    "using LoopVectorization\n",
    "using BenchmarkTools"
   ]
  },
  {
   "cell_type": "code",
   "execution_count": 80,
   "id": "3b6d40e5-414e-497c-a536-364debe8d81f",
   "metadata": {},
   "outputs": [],
   "source": [
    "fits_file = FITS(\"/Users/song/Dropbox/work/project/huoguo/huoguo/data/M51.fits\"); \n",
    "\n",
    "img = FITSIO.read(fits_file[1]);"
   ]
  },
  {
   "cell_type": "code",
   "execution_count": 94,
   "id": "b881e7cd-b874-4fc4-8bfe-63dc402b74a1",
   "metadata": {},
   "outputs": [
    {
     "data": {
      "text/plain": [
       "imgPolarCoord (generic function with 1 method)"
      ]
     },
     "execution_count": 94,
     "metadata": {},
     "output_type": "execute_result"
    }
   ],
   "source": [
    "function imgPolarCoord(img)\n",
    "    (n, m) = size(img)\n",
    "    xid = Float32[i - n / 2 for i in 0:n-1, _ in 0:m-1]\n",
    "    yid = Float32[j - m / 2 for _ in 0:n-1, j in 0:m-1]\n",
    "    return @turbo hypot.(xid, yid), atan.(yid, xid)\n",
    "end"
   ]
  },
  {
   "cell_type": "code",
   "execution_count": 104,
   "id": "6f98d40e-d12c-47c7-9067-99b27a0a25a1",
   "metadata": {},
   "outputs": [
    {
     "name": "stdout",
     "output_type": "stream",
     "text": [
      "  1.316 ms (9 allocations: 4.00 MiB)\n"
     ]
    }
   ],
   "source": [
    "@btime r, θ = imgPolarCoord(img);"
   ]
  },
  {
   "cell_type": "code",
   "execution_count": null,
   "id": "8b12d8b1-e325-4a5e-83f7-2c32658671b3",
   "metadata": {},
   "outputs": [],
   "source": []
  }
 ],
 "metadata": {
  "kernelspec": {
   "display_name": "Julia 1.6.2",
   "language": "julia",
   "name": "julia-1.6"
  },
  "language_info": {
   "file_extension": ".jl",
   "mimetype": "application/julia",
   "name": "julia",
   "version": "1.6.2"
  }
 },
 "nbformat": 4,
 "nbformat_minor": 5
}
