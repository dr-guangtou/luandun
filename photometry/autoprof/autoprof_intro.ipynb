{
 "cells": [
  {
   "cell_type": "code",
   "execution_count": 1,
   "id": "b8ace1f6-5c76-41a9-99ba-820f7a735fc4",
   "metadata": {},
   "outputs": [],
   "source": [
    "%load_ext autoreload\n",
    "%autoreload 2\n",
    "\n",
    "import os\n",
    "\n",
    "import numpy as np \n",
    "import matplotlib.pyplot as plt\n",
    "\n",
    "from astropy.io import fits"
   ]
  },
  {
   "cell_type": "code",
   "execution_count": 2,
   "id": "38ad3d5c-0248-4057-8b7e-db185b22c0a0",
   "metadata": {},
   "outputs": [],
   "source": [
    "import autoprof as ap"
   ]
  },
  {
   "cell_type": "code",
   "execution_count": null,
   "id": "61141603-b130-4796-9269-1d6b8553075d",
   "metadata": {},
   "outputs": [],
   "source": []
  }
 ],
 "metadata": {
  "kernelspec": {
   "display_name": "Python 3 (ipykernel)",
   "language": "python",
   "name": "python3"
  },
  "language_info": {
   "codemirror_mode": {
    "name": "ipython",
    "version": 3
   },
   "file_extension": ".py",
   "mimetype": "text/x-python",
   "name": "python",
   "nbconvert_exporter": "python",
   "pygments_lexer": "ipython3",
   "version": "3.10.9"
  }
 },
 "nbformat": 4,
 "nbformat_minor": 5
}
